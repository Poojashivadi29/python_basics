{
 "cells": [
  {
   "cell_type": "code",
   "execution_count": 1,
   "id": "0c483378-0e8e-4279-a238-487e93b4aaee",
   "metadata": {},
   "outputs": [],
   "source": [
    "import numpy as np"
   ]
  },
  {
   "cell_type": "code",
   "execution_count": 36,
   "id": "accac6e8-dda9-4e75-8c63-51d015440419",
   "metadata": {},
   "outputs": [
    {
     "data": {
      "text/plain": [
       "array([  2,   4,  56, 422,  32,   1])"
      ]
     },
     "execution_count": 36,
     "metadata": {},
     "output_type": "execute_result"
    }
   ],
   "source": [
    "np.array([2,4,56,422,32,1]) # 1D array "
   ]
  },
  {
   "cell_type": "code",
   "execution_count": 38,
   "id": "82db361e-620c-4fec-b7bd-3cebbf8d7d3b",
   "metadata": {},
   "outputs": [
    {
     "name": "stdout",
     "output_type": "stream",
     "text": [
      "[  2   4  56 422  32   1]\n"
     ]
    }
   ],
   "source": [
    "a = np.array([2,4,56,422,32,1]) #Vector \n",
    "print(a)"
   ]
  },
  {
   "cell_type": "code",
   "execution_count": 40,
   "id": "16f72bb4-9e07-44b3-92cb-3737d445b8db",
   "metadata": {},
   "outputs": [
    {
     "data": {
      "text/plain": [
       "numpy.ndarray"
      ]
     },
     "execution_count": 40,
     "metadata": {},
     "output_type": "execute_result"
    }
   ],
   "source": [
    "type(a)"
   ]
  },
  {
   "cell_type": "code",
   "execution_count": 60,
   "id": "ecb4cff3-1cee-4a3f-9589-7a21bde36dee",
   "metadata": {},
   "outputs": [
    {
     "data": {
      "text/plain": [
       "array([[10, 20, 30],\n",
       "       [11, 22, 33]])"
      ]
     },
     "execution_count": 60,
     "metadata": {},
     "output_type": "execute_result"
    }
   ],
   "source": [
    "new = np.array([[10,20,30],[11,22,33]])  # 2d array (matrix)\n",
    "new"
   ]
  },
  {
   "cell_type": "code",
   "execution_count": 62,
   "id": "f488153a-778c-4d7c-9446-3d0e6a862c80",
   "metadata": {},
   "outputs": [
    {
     "data": {
      "text/plain": [
       "array([[10, 20, 30],\n",
       "       [11, 22, 33],\n",
       "       [21, 31, 41]])"
      ]
     },
     "execution_count": 62,
     "metadata": {},
     "output_type": "execute_result"
    }
   ],
   "source": [
    "np.array([[10,20,30],[11,22,33],[21,31,41]])"
   ]
  },
  {
   "cell_type": "code",
   "execution_count": 78,
   "id": "3ceb3484-5b39-44f9-a99f-f31af5427ee8",
   "metadata": {},
   "outputs": [
    {
     "data": {
      "text/plain": [
       "array([[22.1, 32.1, 42.1],\n",
       "       [23. , 33. , 43. ]])"
      ]
     },
     "execution_count": 78,
     "metadata": {},
     "output_type": "execute_result"
    }
   ],
   "source": [
    "np.array([[22.1,32.1,42.1],[23,33,43]], dtype(float)) # type casting"
   ]
  },
  {
   "cell_type": "code",
   "execution_count": 80,
   "id": "11e05837-72c3-4c0b-8d95-a7f23b6255f0",
   "metadata": {},
   "outputs": [
    {
     "data": {
      "text/plain": [
       "numpy.ndarray"
      ]
     },
     "execution_count": 80,
     "metadata": {},
     "output_type": "execute_result"
    }
   ],
   "source": [
    "type(new)"
   ]
  },
  {
   "cell_type": "code",
   "execution_count": 112,
   "id": "ea2e8fe9-c873-400c-8266-6266e9621027",
   "metadata": {},
   "outputs": [
    {
     "data": {
      "text/plain": [
       "array([[10, 20, 30],\n",
       "       [11, 22, 33]])"
      ]
     },
     "execution_count": 112,
     "metadata": {},
     "output_type": "execute_result"
    }
   ],
   "source": [
    "new = np.array([[10,20,30],[11,22,33]])  # 2d array (matrix)\n",
    "new"
   ]
  },
  {
   "cell_type": "code",
   "execution_count": 119,
   "id": "d7a405d2-20c6-4c90-9281-e8c0d12bed10",
   "metadata": {},
   "outputs": [
    {
     "data": {
      "text/plain": [
       "array([[[[[10.+0.j, 20.+0.j, 30.+0.j],\n",
       "          [11.+0.j, 22.+0.j, 33.+0.j]]]]])"
      ]
     },
     "execution_count": 119,
     "metadata": {},
     "output_type": "execute_result"
    }
   ],
   "source": [
    "new = np.array([new],dtype=complex)\n",
    "new    #converting elements into float"
   ]
  },
  {
   "cell_type": "markdown",
   "id": "7f62ad55-cc10-4832-a939-9d1cbb9d0d64",
   "metadata": {},
   "source": [
    "# Arange"
   ]
  },
  {
   "cell_type": "code",
   "execution_count": 123,
   "id": "08f80b11-8841-419d-8e18-f34fd5dd1bea",
   "metadata": {},
   "outputs": [
    {
     "data": {
      "text/plain": [
       "array([10, 11, 12, 13, 14, 15, 16, 17, 18, 19, 20, 21, 22, 23, 24, 25, 26])"
      ]
     },
     "execution_count": 123,
     "metadata": {},
     "output_type": "execute_result"
    }
   ],
   "source": [
    "np.arange(10,27)"
   ]
  },
  {
   "cell_type": "code",
   "execution_count": 127,
   "id": "47867d53-8486-46b3-a6af-c0a4ecd012f6",
   "metadata": {},
   "outputs": [
    {
     "data": {
      "text/plain": [
       "array([ 0,  2,  4,  6,  8, 10, 12, 14, 16, 18, 20, 22, 24, 26, 28])"
      ]
     },
     "execution_count": 127,
     "metadata": {},
     "output_type": "execute_result"
    }
   ],
   "source": [
    "np.arange(0,30,2) # gives alternate numbers"
   ]
  },
  {
   "cell_type": "code",
   "execution_count": 129,
   "id": "f7922eb8-641a-4967-bf5b-153572adb367",
   "metadata": {},
   "outputs": [
    {
     "data": {
      "text/plain": [
       "array([ 0,  1,  2,  3,  4,  5,  6,  7,  8,  9, 10, 11, 12, 13, 14, 15, 16,\n",
       "       17, 18, 19, 20, 21, 22, 23, 24, 25, 26, 27, 28, 29])"
      ]
     },
     "execution_count": 129,
     "metadata": {},
     "output_type": "execute_result"
    }
   ],
   "source": [
    "np.arange(0,30,1) # gives serial numbers"
   ]
  },
  {
   "cell_type": "code",
   "execution_count": 133,
   "id": "d0b73c7d-504b-4cf9-adc7-888769a0eab5",
   "metadata": {},
   "outputs": [
    {
     "ename": "ZeroDivisionError",
     "evalue": "division by zero",
     "output_type": "error",
     "traceback": [
      "\u001b[1;31m---------------------------------------------------------------------------\u001b[0m",
      "\u001b[1;31mZeroDivisionError\u001b[0m                         Traceback (most recent call last)",
      "Cell \u001b[1;32mIn[133], line 1\u001b[0m\n\u001b[1;32m----> 1\u001b[0m np\u001b[38;5;241m.\u001b[39marange(\u001b[38;5;241m0\u001b[39m,\u001b[38;5;241m30\u001b[39m,\u001b[38;5;241m0\u001b[39m)\n",
      "\u001b[1;31mZeroDivisionError\u001b[0m: division by zero"
     ]
    }
   ],
   "source": [
    "np.arange(0,30,0) # 0 is invalid"
   ]
  },
  {
   "cell_type": "markdown",
   "id": "0b38967e-f029-4b36-bf85-5fb438e19206",
   "metadata": {},
   "source": [
    "# Reshape"
   ]
  },
  {
   "cell_type": "code",
   "execution_count": 160,
   "id": "328da959-6db8-49f9-ba2e-197c50516b77",
   "metadata": {},
   "outputs": [
    {
     "data": {
      "text/plain": [
       "array([[1, 2, 3],\n",
       "       [4, 5, 6],\n",
       "       [7, 8, 9]])"
      ]
     },
     "execution_count": 160,
     "metadata": {},
     "output_type": "execute_result"
    }
   ],
   "source": [
    "np.arange(1,10).reshape(3,3) # the coloum and rows has to fit the values given in arange elemants"
   ]
  },
  {
   "cell_type": "code",
   "execution_count": 172,
   "id": "7541f183-b45f-4f2b-a5c7-caddec04a67a",
   "metadata": {},
   "outputs": [
    {
     "data": {
      "text/plain": [
       "array([[ 0,  1,  2,  3,  4,  5,  6,  7,  8,  9],\n",
       "       [10, 11, 12, 13, 14, 15, 16, 17, 18, 19],\n",
       "       [20, 21, 22, 23, 24, 25, 26, 27, 28, 29]])"
      ]
     },
     "execution_count": 172,
     "metadata": {},
     "output_type": "execute_result"
    }
   ],
   "source": [
    "np.arange(0,30).reshape(3,10)"
   ]
  },
  {
   "cell_type": "code",
   "execution_count": 176,
   "id": "604fcd0e-3f8f-4c57-aeaf-31582b000cb5",
   "metadata": {},
   "outputs": [
    {
     "ename": "ValueError",
     "evalue": "cannot reshape array of size 30 into shape (10,2)",
     "output_type": "error",
     "traceback": [
      "\u001b[1;31m---------------------------------------------------------------------------\u001b[0m",
      "\u001b[1;31mValueError\u001b[0m                                Traceback (most recent call last)",
      "Cell \u001b[1;32mIn[176], line 1\u001b[0m\n\u001b[1;32m----> 1\u001b[0m np\u001b[38;5;241m.\u001b[39marange(\u001b[38;5;241m0\u001b[39m,\u001b[38;5;241m30\u001b[39m)\u001b[38;5;241m.\u001b[39mreshape(\u001b[38;5;241m10\u001b[39m,\u001b[38;5;241m2\u001b[39m)\n",
      "\u001b[1;31mValueError\u001b[0m: cannot reshape array of size 30 into shape (10,2)"
     ]
    }
   ],
   "source": [
    "np.arange(0,30).reshape(10,2)"
   ]
  },
  {
   "cell_type": "code",
   "execution_count": null,
   "id": "5fd41502-81f2-42b0-bf34-8d938d9a049e",
   "metadata": {},
   "outputs": [],
   "source": [
    "# Zeroes & Ones "
   ]
  },
  {
   "cell_type": "code",
   "execution_count": 183,
   "id": "311d5ff7-33dd-47fd-b365-7f3825022200",
   "metadata": {},
   "outputs": [
    {
     "data": {
      "text/plain": [
       "array([[0., 0., 0., 0.],\n",
       "       [0., 0., 0., 0.],\n",
       "       [0., 0., 0., 0.],\n",
       "       [0., 0., 0., 0.],\n",
       "       [0., 0., 0., 0.]])"
      ]
     },
     "execution_count": 183,
     "metadata": {},
     "output_type": "execute_result"
    }
   ],
   "source": [
    "np.zeros((5,4))"
   ]
  },
  {
   "cell_type": "code",
   "execution_count": 186,
   "id": "72ffc411-a3a1-4816-8bc2-afaf1b9dd451",
   "metadata": {},
   "outputs": [
    {
     "data": {
      "text/plain": [
       "array([[1., 1., 1., 1.],\n",
       "       [1., 1., 1., 1.],\n",
       "       [1., 1., 1., 1.],\n",
       "       [1., 1., 1., 1.],\n",
       "       [1., 1., 1., 1.]])"
      ]
     },
     "execution_count": 186,
     "metadata": {},
     "output_type": "execute_result"
    }
   ],
   "source": [
    "np.ones((5,4))\n"
   ]
  },
  {
   "cell_type": "code",
   "execution_count": 192,
   "id": "b7114c80-8b75-4bfb-a361-93b762e438b2",
   "metadata": {},
   "outputs": [
    {
     "data": {
      "text/plain": [
       "array([[0.41256228, 0.42806441, 0.319914  , 0.74677221, 0.88520006],\n",
       "       [0.17695545, 0.74267161, 0.31059099, 0.72487485, 0.78251385],\n",
       "       [0.31196355, 0.19057373, 0.68568068, 0.62465741, 0.01805619],\n",
       "       [0.86748189, 0.78060503, 0.9384569 , 0.17127291, 0.50502369],\n",
       "       [0.27118571, 0.78483873, 0.08706258, 0.56654494, 0.36031205],\n",
       "       [0.79653706, 0.67912798, 0.94928735, 0.14570545, 0.31138352],\n",
       "       [0.71054753, 0.037574  , 0.28571086, 0.6496218 , 0.44603604],\n",
       "       [0.43406992, 0.45235224, 0.88253032, 0.95608503, 0.77759724],\n",
       "       [0.87691851, 0.7642195 , 0.52243264, 0.18720718, 0.71849018],\n",
       "       [0.65977503, 0.45075743, 0.539018  , 0.6992952 , 0.6899984 ]])"
      ]
     },
     "execution_count": 192,
     "metadata": {},
     "output_type": "execute_result"
    }
   ],
   "source": [
    "np.random.random((10,5))"
   ]
  },
  {
   "cell_type": "code",
   "execution_count": null,
   "id": "e5487284-b70e-4482-8127-02a87aaef93f",
   "metadata": {},
   "outputs": [],
   "source": [
    "# Linespace"
   ]
  },
  {
   "cell_type": "code",
   "execution_count": 208,
   "id": "01365240-10dc-4afe-aaf2-f89c495a0e85",
   "metadata": {},
   "outputs": [
    {
     "data": {
      "text/plain": [
       "array([-10.        ,  -7.77777778,  -5.55555556,  -3.33333333,\n",
       "        -1.11111111,   1.11111111,   3.33333333,   5.55555556,\n",
       "         7.77777778,  10.        ])"
      ]
     },
     "execution_count": 208,
     "metadata": {},
     "output_type": "execute_result"
    }
   ],
   "source": [
    "np.linspace(-10,10,10)"
   ]
  },
  {
   "cell_type": "code",
   "execution_count": 210,
   "id": "370e8898-8e58-4e88-a9dc-16df520b2dff",
   "metadata": {},
   "outputs": [
    {
     "data": {
      "text/plain": [
       "array([15.        , 21.66666667, 28.33333333, 35.        , 41.66666667,\n",
       "       48.33333333, 55.        ])"
      ]
     },
     "execution_count": 210,
     "metadata": {},
     "output_type": "execute_result"
    }
   ],
   "source": [
    "np.linspace(15,55,7)"
   ]
  },
  {
   "cell_type": "code",
   "execution_count": null,
   "id": "f81e104a-1b0a-44a9-8d69-7bb42b47aaf6",
   "metadata": {},
   "outputs": [],
   "source": [
    "# Identity"
   ]
  },
  {
   "cell_type": "code",
   "execution_count": 213,
   "id": "81a79be9-37f1-4b4b-86c8-18a0fe639630",
   "metadata": {},
   "outputs": [
    {
     "data": {
      "text/plain": [
       "array([[1., 0., 0., 0., 0.],\n",
       "       [0., 1., 0., 0., 0.],\n",
       "       [0., 0., 1., 0., 0.],\n",
       "       [0., 0., 0., 1., 0.],\n",
       "       [0., 0., 0., 0., 1.]])"
      ]
     },
     "execution_count": 213,
     "metadata": {},
     "output_type": "execute_result"
    }
   ],
   "source": [
    "np.identity(5) # creats 5*5 matrix"
   ]
  },
  {
   "cell_type": "code",
   "execution_count": 215,
   "id": "ba741817-817b-42d1-89e2-c706e8072b4c",
   "metadata": {},
   "outputs": [],
   "source": [
    "# Array Attributes"
   ]
  },
  {
   "cell_type": "code",
   "execution_count": 224,
   "id": "a3ba8f3c-c091-4e21-95e0-3e386cd320e1",
   "metadata": {},
   "outputs": [
    {
     "data": {
      "text/plain": [
       "array([2, 3, 4, 5, 6, 7, 8, 9])"
      ]
     },
     "execution_count": 224,
     "metadata": {},
     "output_type": "execute_result"
    }
   ],
   "source": [
    "a = np.arange(2,10)\n",
    "a"
   ]
  },
  {
   "cell_type": "code",
   "execution_count": 246,
   "id": "975b5e90-f079-4fb1-a52a-97e15ff36b1d",
   "metadata": {},
   "outputs": [
    {
     "data": {
      "text/plain": [
       "array([[ 0.,  1.,  2.,  3.],\n",
       "       [ 4.,  5.,  6.,  7.],\n",
       "       [ 8.,  9., 10., 11.]])"
      ]
     },
     "execution_count": 246,
     "metadata": {},
     "output_type": "execute_result"
    }
   ],
   "source": [
    "a2 = np.arange(12, dtype=float).reshape(3,4)\n",
    "a2"
   ]
  },
  {
   "cell_type": "code",
   "execution_count": 274,
   "id": "7436e330-2b85-4807-a780-a7cf1aac8f70",
   "metadata": {},
   "outputs": [
    {
     "data": {
      "text/plain": [
       "array([[ 0.,  1.,  2.,  3.,  4.],\n",
       "       [ 5.,  6.,  7.,  8.,  9.],\n",
       "       [10., 11., 12., 13., 14.],\n",
       "       [15., 16., 17., 18., 19.],\n",
       "       [20., 21., 22., 23., 24.]])"
      ]
     },
     "execution_count": 274,
     "metadata": {},
     "output_type": "execute_result"
    }
   ],
   "source": [
    "a3 = np.arange(25, dtype=float).reshape(5,5)\n",
    "a3"
   ]
  },
  {
   "cell_type": "code",
   "execution_count": 270,
   "id": "54c5c701-cfa4-44a6-a5e2-0f80b7cef048",
   "metadata": {},
   "outputs": [
    {
     "data": {
      "text/plain": [
       "array([[[ 0,  1,  2,  3],\n",
       "        [ 4,  5,  6,  7]],\n",
       "\n",
       "       [[ 8,  9, 10, 11],\n",
       "        [12, 13, 14, 15]]])"
      ]
     },
     "execution_count": 270,
     "metadata": {},
     "output_type": "execute_result"
    }
   ],
   "source": [
    "a4 = np.arange(16, dtype=int).reshape(2,2,4)\n",
    "a4"
   ]
  },
  {
   "cell_type": "markdown",
   "id": "91163306-8cc4-4921-93da-7bd02407d8a1",
   "metadata": {
    "jp-MarkdownHeadingCollapsed": true
   },
   "source": [
    "# zeros & ones"
   ]
  },
  {
   "cell_type": "code",
   "execution_count": 506,
   "id": "85cbe133-f53a-4213-8676-93c2a334b910",
   "metadata": {},
   "outputs": [
    {
     "data": {
      "text/plain": [
       "array([[0., 0., 0., 0., 0.],\n",
       "       [0., 0., 0., 0., 0.],\n",
       "       [0., 0., 0., 0., 0.],\n",
       "       [0., 0., 0., 0., 0.],\n",
       "       [0., 0., 0., 0., 0.]])"
      ]
     },
     "execution_count": 506,
     "metadata": {},
     "output_type": "execute_result"
    }
   ],
   "source": [
    "np.zeros((5,5))"
   ]
  },
  {
   "cell_type": "code",
   "execution_count": 510,
   "id": "a1f8b55b-7a15-4fcd-be2b-e84a18bb78a3",
   "metadata": {},
   "outputs": [
    {
     "data": {
      "text/plain": [
       "array([[1., 1., 1., 1., 1.],\n",
       "       [1., 1., 1., 1., 1.],\n",
       "       [1., 1., 1., 1., 1.],\n",
       "       [1., 1., 1., 1., 1.],\n",
       "       [1., 1., 1., 1., 1.]])"
      ]
     },
     "execution_count": 510,
     "metadata": {},
     "output_type": "execute_result"
    }
   ],
   "source": [
    "np.ones((5,5))"
   ]
  },
  {
   "cell_type": "markdown",
   "id": "b1824b30-3540-432a-88a1-616f07b53e8b",
   "metadata": {},
   "source": [
    "#linspace"
   ]
  },
  {
   "cell_type": "code",
   "execution_count": 517,
   "id": "c4ef5c05-4922-490c-93e1-e0abedec8d09",
   "metadata": {},
   "outputs": [
    {
     "data": {
      "text/plain": [
       "array([-10.        ,  -7.77777778,  -5.55555556,  -3.33333333,\n",
       "        -1.11111111,   1.11111111,   3.33333333,   5.55555556,\n",
       "         7.77777778,  10.        ])"
      ]
     },
     "execution_count": 517,
     "metadata": {},
     "output_type": "execute_result"
    }
   ],
   "source": [
    "np.linspace(-10,10,10)"
   ]
  },
  {
   "cell_type": "code",
   "execution_count": 522,
   "id": "00699f4a-325e-47df-8068-e5b393551303",
   "metadata": {},
   "outputs": [
    {
     "data": {
      "text/plain": [
       "array([10., 20., 30., 40., 50.])"
      ]
     },
     "execution_count": 522,
     "metadata": {},
     "output_type": "execute_result"
    }
   ],
   "source": [
    "np.linspace(10,50,5)"
   ]
  },
  {
   "cell_type": "code",
   "execution_count": 524,
   "id": "8681517c-93d1-451d-bd88-f79053560887",
   "metadata": {},
   "outputs": [
    {
     "data": {
      "text/plain": [
       "array([[1., 0., 0., 0., 0., 0., 0.],\n",
       "       [0., 1., 0., 0., 0., 0., 0.],\n",
       "       [0., 0., 1., 0., 0., 0., 0.],\n",
       "       [0., 0., 0., 1., 0., 0., 0.],\n",
       "       [0., 0., 0., 0., 1., 0., 0.],\n",
       "       [0., 0., 0., 0., 0., 1., 0.],\n",
       "       [0., 0., 0., 0., 0., 0., 1.]])"
      ]
     },
     "execution_count": 524,
     "metadata": {},
     "output_type": "execute_result"
    }
   ],
   "source": [
    "np.identity(7)"
   ]
  },
  {
   "cell_type": "markdown",
   "id": "211df4cc-445d-4e1e-8db4-c64ed54dae35",
   "metadata": {},
   "source": [
    "# Array attributes"
   ]
  },
  {
   "cell_type": "code",
   "execution_count": 531,
   "id": "5357f2bd-770f-4aea-992a-7ea68fa0883a",
   "metadata": {},
   "outputs": [
    {
     "data": {
      "text/plain": [
       "array([0, 1, 2, 3, 4])"
      ]
     },
     "execution_count": 531,
     "metadata": {},
     "output_type": "execute_result"
    }
   ],
   "source": [
    "a1 = np.arange(5)\n",
    "a1"
   ]
  },
  {
   "cell_type": "code",
   "execution_count": 541,
   "id": "87f34c92-bde8-489a-b974-4ce3a37ccfc9",
   "metadata": {},
   "outputs": [
    {
     "data": {
      "text/plain": [
       "array([[ 0,  1,  2,  3],\n",
       "       [ 4,  5,  6,  7],\n",
       "       [ 8,  9, 10, 11]])"
      ]
     },
     "execution_count": 541,
     "metadata": {},
     "output_type": "execute_result"
    }
   ],
   "source": [
    "a2 = np.arange(12, dtype =int).reshape(3,4)\n",
    "a2"
   ]
  },
  {
   "cell_type": "code",
   "execution_count": 543,
   "id": "e5a8541b-c7e2-419a-8042-9e24a735e0d9",
   "metadata": {},
   "outputs": [
    {
     "data": {
      "text/plain": [
       "array([[[0, 1],\n",
       "        [2, 3]],\n",
       "\n",
       "       [[4, 5],\n",
       "        [6, 7]]])"
      ]
     },
     "execution_count": 543,
     "metadata": {},
     "output_type": "execute_result"
    }
   ],
   "source": [
    "a3 = np.arange(8).reshape(2,2,2) # 3D --> Tensor \n",
    "a3 "
   ]
  },
  {
   "cell_type": "code",
   "execution_count": 553,
   "id": "2533442b-a676-4e55-a4c5-66626a041337",
   "metadata": {},
   "outputs": [
    {
     "data": {
      "text/plain": [
       "array([[[ 0,  1,  2,  3,  4,  5,  6,  7,  8,  9],\n",
       "        [10, 11, 12, 13, 14, 15, 16, 17, 18, 19],\n",
       "        [20, 21, 22, 23, 24, 25, 26, 27, 28, 29],\n",
       "        [30, 31, 32, 33, 34, 35, 36, 37, 38, 39],\n",
       "        [40, 41, 42, 43, 44, 45, 46, 47, 48, 49]],\n",
       "\n",
       "       [[50, 51, 52, 53, 54, 55, 56, 57, 58, 59],\n",
       "        [60, 61, 62, 63, 64, 65, 66, 67, 68, 69],\n",
       "        [70, 71, 72, 73, 74, 75, 76, 77, 78, 79],\n",
       "        [80, 81, 82, 83, 84, 85, 86, 87, 88, 89],\n",
       "        [90, 91, 92, 93, 94, 95, 96, 97, 98, 99]]])"
      ]
     },
     "execution_count": 553,
     "metadata": {},
     "output_type": "execute_result"
    }
   ],
   "source": [
    "a5 = np.arange(100).reshape(2,5,10)\n",
    "a5"
   ]
  },
  {
   "cell_type": "code",
   "execution_count": 557,
   "id": "b89ed4c8-8157-4f5d-8092-fefbdf1d0b46",
   "metadata": {},
   "outputs": [
    {
     "data": {
      "text/plain": [
       "array([[[[[ True,  True,  True],\n",
       "          [ True,  True,  True]]]]])"
      ]
     },
     "execution_count": 557,
     "metadata": {},
     "output_type": "execute_result"
    }
   ],
   "source": [
    "new.astype(bool)"
   ]
  },
  {
   "cell_type": "markdown",
   "id": "dbd434f8-ee2e-407e-83d1-239c571e7962",
   "metadata": {},
   "source": [
    "#   Array operations"
   ]
  },
  {
   "cell_type": "code",
   "execution_count": 564,
   "id": "98e5dc19-7089-4d45-8540-61788e7a4631",
   "metadata": {},
   "outputs": [],
   "source": [
    "z1 = np.arange(12).reshape(3,4) \n",
    "z2 = np.arange(12,24).reshape(3,4) "
   ]
  },
  {
   "cell_type": "code",
   "execution_count": 568,
   "id": "87cacfeb-4664-48a4-b6cf-8715e0d3c359",
   "metadata": {},
   "outputs": [
    {
     "name": "stdout",
     "output_type": "stream",
     "text": [
      "[[ 0  1  2  3]\n",
      " [ 4  5  6  7]\n",
      " [ 8  9 10 11]]\n",
      "[[12 13 14 15]\n",
      " [16 17 18 19]\n",
      " [20 21 22 23]]\n"
     ]
    }
   ],
   "source": [
    "print(z1)\n",
    "print(z2)"
   ]
  },
  {
   "cell_type": "code",
   "execution_count": 570,
   "id": "fee2e56c-d34e-4d9d-8412-1c4982c1c38d",
   "metadata": {},
   "outputs": [
    {
     "data": {
      "text/plain": [
       "array([[ 5,  6,  7,  8],\n",
       "       [ 9, 10, 11, 12],\n",
       "       [13, 14, 15, 16]])"
      ]
     },
     "execution_count": 570,
     "metadata": {},
     "output_type": "execute_result"
    }
   ],
   "source": [
    "z1 + 5 #scaler operations"
   ]
  },
  {
   "cell_type": "code",
   "execution_count": 572,
   "id": "2d30c8a0-4782-4e1a-83e3-f4bc756ff468",
   "metadata": {},
   "outputs": [
    {
     "data": {
      "text/plain": [
       "array([[ 8,  9, 10, 11],\n",
       "       [12, 13, 14, 15],\n",
       "       [16, 17, 18, 19]])"
      ]
     },
     "execution_count": 572,
     "metadata": {},
     "output_type": "execute_result"
    }
   ],
   "source": [
    "z2 - 4"
   ]
  },
  {
   "cell_type": "code",
   "execution_count": 574,
   "id": "91898107-5666-47ca-b85b-afc200ab30ef",
   "metadata": {},
   "outputs": [
    {
     "data": {
      "text/plain": [
       "array([[ 0,  2,  4,  6],\n",
       "       [ 8, 10, 12, 14],\n",
       "       [16, 18, 20, 22]])"
      ]
     },
     "execution_count": 574,
     "metadata": {},
     "output_type": "execute_result"
    }
   ],
   "source": [
    "z1 * 2 # multiplication"
   ]
  },
  {
   "cell_type": "code",
   "execution_count": 586,
   "id": "dc24c92d-c397-439c-884f-d07eef3a617b",
   "metadata": {},
   "outputs": [
    {
     "data": {
      "text/plain": [
       "array([[ 20736,  28561,  38416,  50625],\n",
       "       [ 65536,  83521, 104976, 130321],\n",
       "       [160000, 194481, 234256, 279841]], dtype=int32)"
      ]
     },
     "execution_count": 586,
     "metadata": {},
     "output_type": "execute_result"
    }
   ],
   "source": [
    "z2**4 #power"
   ]
  },
  {
   "cell_type": "code",
   "execution_count": 592,
   "id": "8c3386fa-6406-4527-8f7b-64ae1509781b",
   "metadata": {},
   "outputs": [
    {
     "data": {
      "text/plain": [
       "array([[0, 0, 1, 1],\n",
       "       [2, 2, 3, 3],\n",
       "       [4, 4, 5, 5]], dtype=int32)"
      ]
     },
     "execution_count": 592,
     "metadata": {},
     "output_type": "execute_result"
    }
   ],
   "source": [
    "z1//2 # floor division"
   ]
  },
  {
   "cell_type": "code",
   "execution_count": 596,
   "id": "7c1f3019-5865-4f63-b150-1cb6d9dad53b",
   "metadata": {},
   "outputs": [
    {
     "data": {
      "text/plain": [
       "array([[0, 1, 2, 0],\n",
       "       [1, 2, 0, 1],\n",
       "       [2, 0, 1, 2]], dtype=int32)"
      ]
     },
     "execution_count": 596,
     "metadata": {},
     "output_type": "execute_result"
    }
   ],
   "source": [
    "z2 % 3 # module"
   ]
  },
  {
   "cell_type": "code",
   "execution_count": 609,
   "id": "98aab0bd-3249-4fb3-9d21-7871d4f3680a",
   "metadata": {},
   "outputs": [
    {
     "data": {
      "text/plain": [
       "array([[False, False, False, False],\n",
       "       [False, False,  True,  True],\n",
       "       [ True,  True,  True,  True]])"
      ]
     },
     "execution_count": 609,
     "metadata": {},
     "output_type": "execute_result"
    }
   ],
   "source": [
    "z1>5 # relational operations"
   ]
  },
  {
   "cell_type": "code",
   "execution_count": 611,
   "id": "8f087881-c297-4daa-aec3-e55b4775a86c",
   "metadata": {},
   "outputs": [
    {
     "data": {
      "text/plain": [
       "array([[ True,  True,  True,  True],\n",
       "       [ True, False, False, False],\n",
       "       [False, False, False, False]])"
      ]
     },
     "execution_count": 611,
     "metadata": {},
     "output_type": "execute_result"
    }
   ],
   "source": [
    "z1<5"
   ]
  },
  {
   "cell_type": "code",
   "execution_count": 613,
   "id": "b4ca4c10-1ba2-45ee-805d-c76ed124abf3",
   "metadata": {},
   "outputs": [
    {
     "data": {
      "text/plain": [
       "array([[False, False, False, False],\n",
       "       [False, False, False, False],\n",
       "       [False, False, False, False]])"
      ]
     },
     "execution_count": 613,
     "metadata": {},
     "output_type": "execute_result"
    }
   ],
   "source": [
    "z2>50"
   ]
  },
  {
   "cell_type": "code",
   "execution_count": 615,
   "id": "b8a25798-b1c0-4a8f-9b9d-e0568370789c",
   "metadata": {},
   "outputs": [
    {
     "data": {
      "text/plain": [
       "array([[ True,  True,  True,  True],\n",
       "       [ True,  True,  True,  True],\n",
       "       [ True,  True,  True,  True]])"
      ]
     },
     "execution_count": 615,
     "metadata": {},
     "output_type": "execute_result"
    }
   ],
   "source": [
    "z2<50"
   ]
  },
  {
   "cell_type": "markdown",
   "id": "8c260133-de6c-4845-8326-92ca4ae6c21a",
   "metadata": {},
   "source": [
    "#vector"
   ]
  },
  {
   "cell_type": "code",
   "execution_count": 622,
   "id": "ee2f505f-f268-4967-bd8a-21cd3da6bce5",
   "metadata": {},
   "outputs": [
    {
     "name": "stdout",
     "output_type": "stream",
     "text": [
      "[[ 0  1  2  3]\n",
      " [ 4  5  6  7]\n",
      " [ 8  9 10 11]]\n",
      "[[12 13 14 15]\n",
      " [16 17 18 19]\n",
      " [20 21 22 23]]\n"
     ]
    }
   ],
   "source": [
    "print(z1)\n",
    "print(z2)"
   ]
  },
  {
   "cell_type": "code",
   "execution_count": 620,
   "id": "22098486-2cb9-4a9a-b4f3-8ed82b5c96e0",
   "metadata": {},
   "outputs": [
    {
     "data": {
      "text/plain": [
       "array([[12, 14, 16, 18],\n",
       "       [20, 22, 24, 26],\n",
       "       [28, 30, 32, 34]])"
      ]
     },
     "execution_count": 620,
     "metadata": {},
     "output_type": "execute_result"
    }
   ],
   "source": [
    "z1+z2"
   ]
  },
  {
   "cell_type": "code",
   "execution_count": 634,
   "id": "d8bdca65-cafe-4418-a377-02ceff40d2a7",
   "metadata": {},
   "outputs": [
    {
     "data": {
      "text/plain": [
       "array([[  0,  13,  28,  45],\n",
       "       [ 64,  85, 108, 133],\n",
       "       [160, 189, 220, 253]])"
      ]
     },
     "execution_count": 634,
     "metadata": {},
     "output_type": "execute_result"
    }
   ],
   "source": [
    "z1*z2 # 2 variables caluclation"
   ]
  },
  {
   "cell_type": "code",
   "execution_count": 628,
   "id": "491de735-9140-4b75-968d-7dfa634ee87c",
   "metadata": {},
   "outputs": [
    {
     "data": {
      "text/plain": [
       "array([[0, 0, 0, 0],\n",
       "       [0, 0, 0, 0],\n",
       "       [0, 0, 0, 0]])"
      ]
     },
     "execution_count": 628,
     "metadata": {},
     "output_type": "execute_result"
    }
   ],
   "source": [
    "z1//z2"
   ]
  },
  {
   "cell_type": "code",
   "execution_count": 630,
   "id": "e6d110be-b528-4805-9a42-a14fa652fd60",
   "metadata": {},
   "outputs": [
    {
     "data": {
      "text/plain": [
       "array([[-12, -12, -12, -12],\n",
       "       [-12, -12, -12, -12],\n",
       "       [-12, -12, -12, -12]])"
      ]
     },
     "execution_count": 630,
     "metadata": {},
     "output_type": "execute_result"
    }
   ],
   "source": [
    "z1-z2"
   ]
  },
  {
   "cell_type": "code",
   "execution_count": 632,
   "id": "d7916637-3341-4a96-abc3-4a1d41284088",
   "metadata": {},
   "outputs": [
    {
     "data": {
      "text/plain": [
       "array([[ 0,  1,  2,  3],\n",
       "       [ 4,  5,  6,  7],\n",
       "       [ 8,  9, 10, 11]])"
      ]
     },
     "execution_count": 632,
     "metadata": {},
     "output_type": "execute_result"
    }
   ],
   "source": [
    "z1%z2"
   ]
  },
  {
   "cell_type": "markdown",
   "id": "19dae7f4-3754-4bdc-ab7c-5a0aa4d7f5a3",
   "metadata": {},
   "source": [
    "#Array function"
   ]
  },
  {
   "cell_type": "code",
   "execution_count": 683,
   "id": "e3904f63-7955-46f5-9e58-a1f564f2cd6d",
   "metadata": {},
   "outputs": [
    {
     "data": {
      "text/plain": [
       "array([[0.7649754 , 0.31829711, 0.39527114],\n",
       "       [0.51943882, 0.48056282, 0.35009315],\n",
       "       [0.71244384, 0.86928312, 0.8527036 ]])"
      ]
     },
     "execution_count": 683,
     "metadata": {},
     "output_type": "execute_result"
    }
   ],
   "source": [
    "p1 = np.random.random((3,3))\n",
    "p1"
   ]
  },
  {
   "cell_type": "code",
   "execution_count": 685,
   "id": "4253b433-5ded-460a-9564-f4a945b11929",
   "metadata": {},
   "outputs": [
    {
     "data": {
      "text/plain": [
       "array([[76., 32., 40.],\n",
       "       [52., 48., 35.],\n",
       "       [71., 87., 85.]])"
      ]
     },
     "execution_count": 685,
     "metadata": {},
     "output_type": "execute_result"
    }
   ],
   "source": [
    "p1 = np.round(p1*100)\n",
    "p1"
   ]
  },
  {
   "cell_type": "code",
   "execution_count": 687,
   "id": "b8d05594-a36d-451f-bade-0578abf2bb70",
   "metadata": {},
   "outputs": [
    {
     "data": {
      "text/plain": [
       "87.0"
      ]
     },
     "execution_count": 687,
     "metadata": {},
     "output_type": "execute_result"
    }
   ],
   "source": [
    "np.max(p1)"
   ]
  },
  {
   "cell_type": "code",
   "execution_count": 689,
   "id": "b8da51dc-5bd4-476e-83df-877358dc7151",
   "metadata": {},
   "outputs": [
    {
     "data": {
      "text/plain": [
       "32.0"
      ]
     },
     "execution_count": 689,
     "metadata": {},
     "output_type": "execute_result"
    }
   ],
   "source": [
    "np.min(p1)"
   ]
  },
  {
   "cell_type": "code",
   "execution_count": 691,
   "id": "6580e3d6-60ef-4b4e-b60a-370d8a77b3d9",
   "metadata": {},
   "outputs": [
    {
     "data": {
      "text/plain": [
       "526.0"
      ]
     },
     "execution_count": 691,
     "metadata": {},
     "output_type": "execute_result"
    }
   ],
   "source": [
    "np.sum(p1)"
   ]
  },
  {
   "cell_type": "code",
   "execution_count": 693,
   "id": "73daff02-b68f-4778-bd01-68429ed9c6d9",
   "metadata": {},
   "outputs": [
    {
     "data": {
      "text/plain": [
       "4462032347136000.0"
      ]
     },
     "execution_count": 693,
     "metadata": {},
     "output_type": "execute_result"
    }
   ],
   "source": [
    "np.prod(p1)"
   ]
  },
  {
   "cell_type": "code",
   "execution_count": 711,
   "id": "03b9a361-cdb1-4f27-b758-03b6257e50ab",
   "metadata": {},
   "outputs": [
    {
     "data": {
      "text/plain": [
       "array([[76., 32., 40.],\n",
       "       [52., 48., 35.],\n",
       "       [71., 87., 85.]])"
      ]
     },
     "execution_count": 711,
     "metadata": {},
     "output_type": "execute_result"
    }
   ],
   "source": [
    "p1 # in matrix 0=column , 1=row"
   ]
  },
  {
   "cell_type": "code",
   "execution_count": 713,
   "id": "c792e4f9-ea39-499b-a4fe-853631c24c65",
   "metadata": {},
   "outputs": [
    {
     "data": {
      "text/plain": [
       "array([76., 52., 87.])"
      ]
     },
     "execution_count": 713,
     "metadata": {},
     "output_type": "execute_result"
    }
   ],
   "source": [
    "np.max(p1, axis=1)"
   ]
  },
  {
   "cell_type": "code",
   "execution_count": 715,
   "id": "af20dfc6-adaf-41c1-985b-69191a3bc3d3",
   "metadata": {},
   "outputs": [
    {
     "data": {
      "text/plain": [
       "array([76., 87., 85.])"
      ]
     },
     "execution_count": 715,
     "metadata": {},
     "output_type": "execute_result"
    }
   ],
   "source": [
    "np.max(p1, axis=0)"
   ]
  },
  {
   "cell_type": "code",
   "execution_count": 717,
   "id": "cce137bc-3c7d-4510-8109-b7acbc78864c",
   "metadata": {},
   "outputs": [
    {
     "data": {
      "text/plain": [
       "array([66.33333333, 55.66666667, 53.33333333])"
      ]
     },
     "execution_count": 717,
     "metadata": {},
     "output_type": "execute_result"
    }
   ],
   "source": [
    "np.mean(p1,axis=0)"
   ]
  },
  {
   "cell_type": "code",
   "execution_count": 721,
   "id": "0eb20229-6ed3-4f5b-a8f8-4af673d8c0a4",
   "metadata": {},
   "outputs": [
    {
     "data": {
      "text/plain": [
       "20.347596697350394"
      ]
     },
     "execution_count": 721,
     "metadata": {},
     "output_type": "execute_result"
    }
   ],
   "source": [
    "np.std(p1) # standred deviation"
   ]
  },
  {
   "cell_type": "code",
   "execution_count": 723,
   "id": "59e696af-5152-471b-922e-c54ab6202a33",
   "metadata": {},
   "outputs": [
    {
     "data": {
      "text/plain": [
       "array([10.33870828, 23.09882152, 22.48456261])"
      ]
     },
     "execution_count": 723,
     "metadata": {},
     "output_type": "execute_result"
    }
   ],
   "source": [
    "np.std(p1, axis=0) "
   ]
  },
  {
   "cell_type": "code",
   "execution_count": 727,
   "id": "0f75713f-0ece-4be3-b0a2-166017e3f2e2",
   "metadata": {},
   "outputs": [
    {
     "data": {
      "text/plain": [
       "414.0246913580247"
      ]
     },
     "execution_count": 727,
     "metadata": {},
     "output_type": "execute_result"
    }
   ],
   "source": [
    "np.var(p1) # variance"
   ]
  },
  {
   "cell_type": "markdown",
   "id": "93f781e8-672f-419c-8084-8de6f1463198",
   "metadata": {},
   "source": [
    "#Trignometry functions"
   ]
  },
  {
   "cell_type": "code",
   "execution_count": 736,
   "id": "8ccf1556-dcda-4012-86d8-d1155fb782a4",
   "metadata": {},
   "outputs": [
    {
     "data": {
      "text/plain": [
       "array([[ 0.56610764,  0.55142668,  0.74511316],\n",
       "       [ 0.98662759, -0.76825466, -0.42818267],\n",
       "       [ 0.95105465, -0.82181784, -0.17607562]])"
      ]
     },
     "execution_count": 736,
     "metadata": {},
     "output_type": "execute_result"
    }
   ],
   "source": [
    "np.sin(p1) # sin"
   ]
  },
  {
   "cell_type": "code",
   "execution_count": 740,
   "id": "36f23aa1-9859-4d7c-9aac-9b4221920dec",
   "metadata": {},
   "outputs": [
    {
     "data": {
      "text/plain": [
       "array([[ 0.82433133,  0.83422336, -0.66693806],\n",
       "       [-0.16299078, -0.64014434, -0.90369221],\n",
       "       [-0.30902273,  0.56975033, -0.98437664]])"
      ]
     },
     "execution_count": 740,
     "metadata": {},
     "output_type": "execute_result"
    }
   ],
   "source": [
    "np.cos(p1) # cos"
   ]
  },
  {
   "cell_type": "code",
   "execution_count": 742,
   "id": "02871c8b-14eb-4796-9fee-b837f219d9e7",
   "metadata": {},
   "outputs": [
    {
     "data": {
      "text/plain": [
       "array([[ 0.68674769,  0.66100604, -1.11721493],\n",
       "       [-6.05327238,  1.20012724,  0.47381472],\n",
       "       [-3.0776204 , -1.44241747,  0.17887017]])"
      ]
     },
     "execution_count": 742,
     "metadata": {},
     "output_type": "execute_result"
    }
   ],
   "source": [
    "np.tan(p1) # tan"
   ]
  },
  {
   "cell_type": "markdown",
   "id": "d441851d-9864-43ee-a460-d9975bf7111d",
   "metadata": {},
   "source": [
    "#dot products"
   ]
  },
  {
   "cell_type": "code",
   "execution_count": 757,
   "id": "0a34d1c3-5212-473e-89ff-342579ed8e61",
   "metadata": {},
   "outputs": [
    {
     "name": "stdout",
     "output_type": "stream",
     "text": [
      "[[ 0  1  2  3]\n",
      " [ 4  5  6  7]\n",
      " [ 8  9 10 11]]\n",
      "[[12 13 14]\n",
      " [15 16 17]\n",
      " [18 19 20]\n",
      " [21 22 23]]\n"
     ]
    }
   ],
   "source": [
    "r1 = np.arange(12).reshape(3,4) \n",
    "r2 = np.arange(12,24).reshape(4,3) \n",
    "print(r1)\n",
    "print(r2)"
   ]
  },
  {
   "cell_type": "code",
   "execution_count": 761,
   "id": "35e00f8a-36b5-4c19-bf74-6f64b2252548",
   "metadata": {},
   "outputs": [
    {
     "data": {
      "text/plain": [
       "114"
      ]
     },
     "execution_count": 761,
     "metadata": {},
     "output_type": "execute_result"
    }
   ],
   "source": [
    "0*12+1*15+2*18+3*21"
   ]
  },
  {
   "cell_type": "code",
   "execution_count": 759,
   "id": "842fac8c-e234-4437-b51f-840001545d8e",
   "metadata": {},
   "outputs": [
    {
     "data": {
      "text/plain": [
       "array([[114, 120, 126],\n",
       "       [378, 400, 422],\n",
       "       [642, 680, 718]])"
      ]
     },
     "execution_count": 759,
     "metadata": {},
     "output_type": "execute_result"
    }
   ],
   "source": [
    "np.dot(r1,r2) # rows multiplie by columns"
   ]
  },
  {
   "cell_type": "code",
   "execution_count": 764,
   "id": "6ac347a4-0857-49d9-8291-63fd53596b4d",
   "metadata": {},
   "outputs": [
    {
     "name": "stdout",
     "output_type": "stream",
     "text": [
      "[1. 3. 4. 5.]\n"
     ]
    }
   ],
   "source": [
    "#Round to the nearest integer \n",
    "arr = np.array([1.2, 2.7, 3.5, 4.9]) \n",
    "rounded_arr = np.round(arr) \n",
    "print(rounded_arr) "
   ]
  },
  {
   "cell_type": "code",
   "execution_count": 766,
   "id": "77fa6a4f-9488-475f-b535-42c569faf132",
   "metadata": {},
   "outputs": [
    {
     "name": "stdout",
     "output_type": "stream",
     "text": [
      "[1. 2. 3. 4.]\n"
     ]
    }
   ],
   "source": [
    "#Floor operation \n",
    "arr = np.array([1.2, 2.7, 3.5, 4.9]) \n",
    "floored_arr = np.floor(arr) \n",
    "print(floored_arr) "
   ]
  },
  {
   "cell_type": "code",
   "execution_count": 768,
   "id": "d98d6320-f817-4e14-9467-209fc3188502",
   "metadata": {},
   "outputs": [
    {
     "name": "stdout",
     "output_type": "stream",
     "text": [
      "[2. 3. 4. 5.]\n"
     ]
    }
   ],
   "source": [
    "# ceil\n",
    "arr = np.array([1.2, 2.7, 3.5, 4.9]) \n",
    "ceiled_arr = np.ceil(arr) \n",
    "print(ceiled_arr)"
   ]
  },
  {
   "cell_type": "code",
   "execution_count": 770,
   "id": "e5410431-3215-4d74-86ee-e492f780a3e1",
   "metadata": {},
   "outputs": [
    {
     "data": {
      "text/plain": [
       "6.0"
      ]
     },
     "execution_count": 770,
     "metadata": {},
     "output_type": "execute_result"
    }
   ],
   "source": [
    "np.floor(6.8)"
   ]
  },
  {
   "cell_type": "code",
   "execution_count": null,
   "id": "f942bfc6-0800-48b6-8577-15699ef1a422",
   "metadata": {},
   "outputs": [],
   "source": []
  },
  {
   "cell_type": "code",
   "execution_count": null,
   "id": "40b4e750-6bfe-407c-b4c1-cd779d8e42a3",
   "metadata": {},
   "outputs": [],
   "source": []
  },
  {
   "cell_type": "code",
   "execution_count": null,
   "id": "6f7500e5-a62e-4a7d-ac47-d0b2ae17c3ff",
   "metadata": {},
   "outputs": [],
   "source": []
  },
  {
   "cell_type": "code",
   "execution_count": null,
   "id": "f2c9c7f2-afb1-43c4-b5e3-5423e23e3363",
   "metadata": {},
   "outputs": [],
   "source": []
  },
  {
   "cell_type": "code",
   "execution_count": 3,
   "id": "3ff54e5a-c069-4e95-beb8-dcaa28cb3e6e",
   "metadata": {},
   "outputs": [
    {
     "data": {
      "text/plain": [
       "array([[168,  61,  17, 139, 171,  11, 161, 151, 183,  38],\n",
       "       [ 62, 121,  59,  66, 109, 198, 103, 184,  55,  88],\n",
       "       [ 42, 176,  25, 199,  75,  91,  33,  50, 120, 142],\n",
       "       [ 27, 136,  28, 106, 158, 128, 174, 134,  38,  78],\n",
       "       [149, 137,  80, 166,  21,  31, 191,  28,  65,  39]])"
      ]
     },
     "execution_count": 3,
     "metadata": {},
     "output_type": "execute_result"
    }
   ],
   "source": [
    "np.random.randint(11,200,(5,10))"
   ]
  },
  {
   "cell_type": "code",
   "execution_count": 5,
   "id": "c33c9460-d855-4a54-a834-741f787f278b",
   "metadata": {},
   "outputs": [
    {
     "data": {
      "text/plain": [
       "array([[ 1,  2,  3,  4,  5],\n",
       "       [ 6,  7,  8,  9, 10],\n",
       "       [11, 12, 13, 14, 15],\n",
       "       [16, 17, 18, 19, 20],\n",
       "       [21, 22, 23, 24, 25]])"
      ]
     },
     "execution_count": 5,
     "metadata": {},
     "output_type": "execute_result"
    }
   ],
   "source": [
    "np.arange(1,26) .reshape(5,5)"
   ]
  },
  {
   "cell_type": "code",
   "execution_count": 9,
   "id": "2bd100c9-2ee0-49bd-a923-8a888606d26f",
   "metadata": {},
   "outputs": [
    {
     "data": {
      "text/plain": [
       "array([[ 1],\n",
       "       [ 2],\n",
       "       [ 3],\n",
       "       [ 4],\n",
       "       [ 5],\n",
       "       [ 6],\n",
       "       [ 7],\n",
       "       [ 8],\n",
       "       [ 9],\n",
       "       [10],\n",
       "       [11],\n",
       "       [12],\n",
       "       [13],\n",
       "       [14],\n",
       "       [15],\n",
       "       [16],\n",
       "       [17],\n",
       "       [18],\n",
       "       [19],\n",
       "       [20],\n",
       "       [21],\n",
       "       [22],\n",
       "       [23],\n",
       "       [24],\n",
       "       [25]])"
      ]
     },
     "execution_count": 9,
     "metadata": {},
     "output_type": "execute_result"
    }
   ],
   "source": [
    "np.arange(1,26) .reshape(25,1)"
   ]
  },
  {
   "cell_type": "code",
   "execution_count": 11,
   "id": "dceab55e-992a-444a-981a-91091179634d",
   "metadata": {},
   "outputs": [
    {
     "data": {
      "text/plain": [
       "module"
      ]
     },
     "execution_count": 11,
     "metadata": {},
     "output_type": "execute_result"
    }
   ],
   "source": [
    "type(np)"
   ]
  },
  {
   "cell_type": "code",
   "execution_count": 21,
   "id": "f165fe1d-559e-4045-b3f1-4f9491438fcf",
   "metadata": {},
   "outputs": [
    {
     "data": {
      "text/plain": [
       "array([[ 682, 1066, 1634, 1021,  301,  534, 1835, 1880, 1988],\n",
       "       [ 283,  548, 1448, 1143, 1377,   31,  687,  259,  810],\n",
       "       [ 209, 1667, 1774,  219,  602,  135, 1279, 1310, 1038],\n",
       "       [ 794, 1412,  664,  686, 1621,  562,  561,  831, 1182],\n",
       "       [  88,  440,  232, 1084, 1394,  756, 1884, 1087,  149],\n",
       "       [ 744, 1829, 1414,  121,   53, 1564, 1468,  162, 1557],\n",
       "       [ 537,  136, 1976, 1362,  573,  430,  443,  375, 1621],\n",
       "       [1649,  859, 1548,  642,  157, 1279, 1314, 1644,  487],\n",
       "       [ 346,  408,  448,  554,  288, 1371, 1944, 1386,  531],\n",
       "       [  10,  693, 1427,  824, 1048,  909,  977, 1559,  785],\n",
       "       [ 236, 1180, 1144, 1275, 1193, 1811,  946,  885, 1322],\n",
       "       [ 207,  737,  791, 1159, 1133, 1628, 1761, 1399, 1297],\n",
       "       [1250,  213,  616,   91,  698,  812, 1271,  685,  110],\n",
       "       [ 148,  357,  808, 1959, 1283,  867,  219, 1639, 1638],\n",
       "       [1020, 1360, 1913,   72,  526,  225, 1248,  709, 1425]])"
      ]
     },
     "execution_count": 21,
     "metadata": {},
     "output_type": "execute_result"
    }
   ],
   "source": [
    "b = np.random.randint(10,1997,(15,9))\n",
    "b"
   ]
  },
  {
   "cell_type": "code",
   "execution_count": 19,
   "id": "f89d79d5-fe9b-47f6-829d-a17d7d14e316",
   "metadata": {},
   "outputs": [
    {
     "data": {
      "text/plain": [
       "numpy.ndarray"
      ]
     },
     "execution_count": 19,
     "metadata": {},
     "output_type": "execute_result"
    }
   ],
   "source": [
    "type(bz)"
   ]
  },
  {
   "cell_type": "markdown",
   "id": "12b46b00-1e90-4173-b768-92804b311b35",
   "metadata": {
    "jp-MarkdownHeadingCollapsed": true
   },
   "source": [
    "# slicing and comma"
   ]
  },
  {
   "cell_type": "code",
   "execution_count": 25,
   "id": "b96a927f-bdfe-4d32-931e-e8578448a6fe",
   "metadata": {},
   "outputs": [
    {
     "data": {
      "text/plain": [
       "1143"
      ]
     },
     "execution_count": 25,
     "metadata": {},
     "output_type": "execute_result"
    }
   ],
   "source": [
    "b[1,3]"
   ]
  },
  {
   "cell_type": "code",
   "execution_count": 29,
   "id": "ee3180fe-d3cd-4dc8-bed6-82c9efe674b0",
   "metadata": {},
   "outputs": [
    {
     "data": {
      "text/plain": [
       "array([[ 283,  548, 1448, 1143, 1377,   31,  687,  259,  810],\n",
       "       [ 209, 1667, 1774,  219,  602,  135, 1279, 1310, 1038],\n",
       "       [ 794, 1412,  664,  686, 1621,  562,  561,  831, 1182]])"
      ]
     },
     "execution_count": 29,
     "metadata": {},
     "output_type": "execute_result"
    }
   ],
   "source": [
    "b[1:4]"
   ]
  },
  {
   "cell_type": "code",
   "execution_count": 31,
   "id": "5488d709-031a-4df4-b581-fc8148039df1",
   "metadata": {},
   "outputs": [
    {
     "data": {
      "text/plain": [
       "array([[ 283,  548, 1448, 1143, 1377,   31,  687,  259,  810],\n",
       "       [ 209, 1667, 1774,  219,  602,  135, 1279, 1310, 1038],\n",
       "       [ 794, 1412,  664,  686, 1621,  562,  561,  831, 1182],\n",
       "       [  88,  440,  232, 1084, 1394,  756, 1884, 1087,  149],\n",
       "       [ 744, 1829, 1414,  121,   53, 1564, 1468,  162, 1557],\n",
       "       [ 537,  136, 1976, 1362,  573,  430,  443,  375, 1621],\n",
       "       [1649,  859, 1548,  642,  157, 1279, 1314, 1644,  487],\n",
       "       [ 346,  408,  448,  554,  288, 1371, 1944, 1386,  531],\n",
       "       [  10,  693, 1427,  824, 1048,  909,  977, 1559,  785]])"
      ]
     },
     "execution_count": 31,
     "metadata": {},
     "output_type": "execute_result"
    }
   ],
   "source": [
    "b[1:-5]"
   ]
  },
  {
   "cell_type": "code",
   "execution_count": 33,
   "id": "eb3f581e-05de-4b9e-abd2-4cca05aa7969",
   "metadata": {},
   "outputs": [],
   "source": [
    "from numpy import *"
   ]
  },
  {
   "cell_type": "code",
   "execution_count": null,
   "id": "e24b049e-8fb5-49f5-9b7a-171888ef56bb",
   "metadata": {},
   "outputs": [],
   "source": [
    "mat = np.arange(10,10)"
   ]
  }
 ],
 "metadata": {
  "kernelspec": {
   "display_name": "Python 3 (ipykernel)",
   "language": "python",
   "name": "python3"
  },
  "language_info": {
   "codemirror_mode": {
    "name": "ipython",
    "version": 3
   },
   "file_extension": ".py",
   "mimetype": "text/x-python",
   "name": "python",
   "nbconvert_exporter": "python",
   "pygments_lexer": "ipython3",
   "version": "3.12.7"
  }
 },
 "nbformat": 4,
 "nbformat_minor": 5
}
