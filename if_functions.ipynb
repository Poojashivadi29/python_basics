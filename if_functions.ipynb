{
 "cells": [
  {
   "cell_type": "code",
   "execution_count": 25,
   "id": "98006bdc-c870-480f-a2db-f461861e0324",
   "metadata": {},
   "outputs": [
    {
     "name": "stdout",
     "output_type": "stream",
     "text": [
      "even number\n"
     ]
    }
   ],
   "source": [
    "r = 2 # if\n",
    "x = r % 2\n",
    "\n",
    "if x == 0:\n",
    "    print('even number')"
   ]
  },
  {
   "cell_type": "code",
   "execution_count": 38,
   "id": "5ca08241-e82d-4845-8644-09045aa50565",
   "metadata": {},
   "outputs": [
    {
     "name": "stdout",
     "output_type": "stream",
     "text": [
      "odd number\n"
     ]
    }
   ],
   "source": [
    "r = 5 #if else\n",
    "x = r % 2\n",
    "\n",
    "if x == 0:\n",
    "    print('even number')\n",
    "\n",
    "else:\n",
    "    print('odd number')"
   ]
  },
  {
   "cell_type": "code",
   "execution_count": 40,
   "id": "2192d70d-45ee-4cbd-a6ee-68dce263d579",
   "metadata": {},
   "outputs": [
    {
     "name": "stdout",
     "output_type": "stream",
     "text": [
      "odd number\n"
     ]
    }
   ],
   "source": [
    "r = 5 # if in if satment called nested if\n",
    "x = r % 2\n",
    "\n",
    "if x == 0:\n",
    "    print('even number')\n",
    "\n",
    "if x!=0:\n",
    "    print('odd number')"
   ]
  },
  {
   "cell_type": "code",
   "execution_count": 42,
   "id": "ffb165ef-c66f-4b52-bd6b-d5a33b6dd015",
   "metadata": {},
   "outputs": [
    {
     "name": "stdout",
     "output_type": "stream",
     "text": [
      "three\n"
     ]
    }
   ],
   "source": [
    "x=3 # nested if statment\n",
    "\n",
    "if x == 1:\n",
    "    print('one')\n",
    "\n",
    "if x == 2:\n",
    "    print('two')\n",
    "\n",
    "if x == 3:\n",
    "    print('three')"
   ]
  },
  {
   "cell_type": "code",
   "execution_count": 44,
   "id": "87672e69-ab76-4d1c-a0c4-65df2acc5719",
   "metadata": {},
   "outputs": [
    {
     "name": "stdout",
     "output_type": "stream",
     "text": [
      "Number not found\n"
     ]
    }
   ],
   "source": [
    "x=7\n",
    "\n",
    "if x == 1:\n",
    "    print('one')\n",
    "\n",
    "if x == 2:\n",
    "    print('two')\n",
    "\n",
    "if x == 3:\n",
    "    print('three')\n",
    "\n",
    "\n",
    "else:\n",
    "    print('Number not found')"
   ]
  },
  {
   "cell_type": "code",
   "execution_count": 46,
   "id": "640f1c9d-825c-4b27-88fc-2686a3db59ab",
   "metadata": {},
   "outputs": [
    {
     "name": "stdout",
     "output_type": "stream",
     "text": [
      "two\n"
     ]
    }
   ],
   "source": [
    "x=2 # if elif else statment\n",
    "\n",
    "if x == 1:\n",
    "    print('one')\n",
    "\n",
    "elif x == 2:\n",
    "    print('two')\n",
    "\n",
    "elif x == 3:\n",
    "    print('three')\n",
    "\n",
    "\n",
    "else:\n",
    "    print('Number not found')"
   ]
  },
  {
   "cell_type": "code",
   "execution_count": null,
   "id": "1865eda5-0a14-47c5-9f59-f5e946aa29fe",
   "metadata": {},
   "outputs": [],
   "source": []
  },
  {
   "cell_type": "code",
   "execution_count": null,
   "id": "cc7713e9-07ac-44bd-a18a-7988deda2cdb",
   "metadata": {},
   "outputs": [],
   "source": []
  }
 ],
 "metadata": {
  "kernelspec": {
   "display_name": "Python 3 (ipykernel)",
   "language": "python",
   "name": "python3"
  },
  "language_info": {
   "codemirror_mode": {
    "name": "ipython",
    "version": 3
   },
   "file_extension": ".py",
   "mimetype": "text/x-python",
   "name": "python",
   "nbconvert_exporter": "python",
   "pygments_lexer": "ipython3",
   "version": "3.12.7"
  }
 },
 "nbformat": 4,
 "nbformat_minor": 5
}
