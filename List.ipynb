{
 "cells": [
  {
   "cell_type": "markdown",
   "id": "cbe3a6b6-1371-48c3-bbfa-3af89db6bd6e",
   "metadata": {},
   "source": [
    "# List"
   ]
  },
  {
   "cell_type": "code",
   "execution_count": 6,
   "id": "f2b1cc70-a428-4e7f-a91f-b64e257e3292",
   "metadata": {},
   "outputs": [],
   "source": [
    "list1=[] # empty list"
   ]
  },
  {
   "cell_type": "code",
   "execution_count": 10,
   "id": "120a99e6-2842-4e2e-8d5e-e01225d42753",
   "metadata": {},
   "outputs": [
    {
     "name": "stdout",
     "output_type": "stream",
     "text": [
      "<class 'list'>\n"
     ]
    }
   ],
   "source": [
    "print(type(list1))"
   ]
  },
  {
   "cell_type": "code",
   "execution_count": 26,
   "id": "a764cbfb-dea7-492a-b191-3381587602b6",
   "metadata": {},
   "outputs": [
    {
     "name": "stdout",
     "output_type": "stream",
     "text": [
      "[10, 20, 30]\n",
      "[10.22, 20.55, 30.88]\n",
      "['one', 'two', 'three']\n",
      "['one', 20, 50, [55, 66], [66, 46]]\n",
      "['one', 32, 77]\n",
      "['one', 20, 50, [55, 66], {'Pooja', 'raj'}]\n"
     ]
    }
   ],
   "source": [
    "list2=[10,20,30] # list with interger\n",
    "list3=[10.22,20.55,30.88] # list with float\n",
    "list4=['one','two','three'] # list with String\n",
    "list5=['one',20,50,[55,66],[66,46]] # nested lists\n",
    "list6=['one',32,77,] # list of mixed datatypes\n",
    "list7=['one',20,50,[55,66],{'Pooja','raj'}] # nested lists\n",
    "\n",
    "print(list2)\n",
    "print(list3)\n",
    "print(list4)\n",
    "print(list5)\n",
    "print(list6)\n",
    "print(list7)"
   ]
  },
  {
   "cell_type": "code",
   "execution_count": 28,
   "id": "390519b8-230a-4672-8b53-84dae448f7cc",
   "metadata": {},
   "outputs": [
    {
     "data": {
      "text/plain": [
       "5"
      ]
     },
     "execution_count": 28,
     "metadata": {},
     "output_type": "execute_result"
    }
   ],
   "source": [
    "len(list7)"
   ]
  },
  {
   "cell_type": "markdown",
   "id": "5ae11740-c1df-4ff9-b5c0-2143e1d1290a",
   "metadata": {},
   "source": [
    "# list Indexing"
   ]
  },
  {
   "cell_type": "code",
   "execution_count": 49,
   "id": "f17a276c-e816-47c5-9566-3f368ecac3af",
   "metadata": {},
   "outputs": [
    {
     "name": "stdout",
     "output_type": "stream",
     "text": [
      "20\n",
      "{'Pooja', 'raj'}\n",
      "30.88\n",
      "one\n"
     ]
    }
   ],
   "source": [
    "print(list2[1])\n",
    "print(list7[4])\n",
    "print(list3[2])\n",
    "print(list6[0])"
   ]
  },
  {
   "cell_type": "markdown",
   "id": "7cd00be6-696b-4c55-887e-7ab4678bda41",
   "metadata": {},
   "source": [
    "# list slicing"
   ]
  },
  {
   "cell_type": "code",
   "execution_count": 58,
   "id": "c7ae213d-5910-40cb-9ddd-e8a97dedc963",
   "metadata": {},
   "outputs": [
    {
     "data": {
      "text/plain": [
       "['one', 'two', 'three', 'four', 'five', 'six', 'seven', 'eight']"
      ]
     },
     "execution_count": 58,
     "metadata": {},
     "output_type": "execute_result"
    }
   ],
   "source": [
    "mylist = ['one' , 'two' , 'three' , 'four' , 'five' , 'six' , 'seven' , 'eight']\n",
    "mylist"
   ]
  },
  {
   "cell_type": "code",
   "execution_count": 68,
   "id": "22ae05b0-eb46-4324-8e49-27119306710b",
   "metadata": {},
   "outputs": [
    {
     "name": "stdout",
     "output_type": "stream",
     "text": [
      "['one', 'two', 'three', 'four', 'five', 'six', 'seven', 'eight']\n",
      "['one', 'two', 'three', 'four', 'five']\n",
      "['three', 'four', 'five']\n",
      "['one', 'two', 'three', 'four', 'five', 'six']\n",
      "['six', 'seven', 'eight']\n"
     ]
    }
   ],
   "source": [
    "print(mylist[:]) # All values\n",
    "print(mylist[0:5]) # 5 is n-1 = 0 to 4\n",
    "print(mylist[2:5])\n",
    "print(mylist[:6])\n",
    "print(mylist[-3:]) # backward indexcing"
   ]
  },
  {
   "cell_type": "markdown",
   "id": "c2f4b0a9-412c-4ede-8f40-e518bfd97c76",
   "metadata": {},
   "source": [
    "# Add,remove & Change"
   ]
  },
  {
   "cell_type": "code",
   "execution_count": 79,
   "id": "0ae8c55f-8f0d-4b15-b78a-c719b210bd18",
   "metadata": {},
   "outputs": [
    {
     "data": {
      "text/plain": [
       "['one', 'two', 'three', 'four', 'five', 'six', 'seven', 'eight']"
      ]
     },
     "execution_count": 79,
     "metadata": {},
     "output_type": "execute_result"
    }
   ],
   "source": [
    "mylist"
   ]
  },
  {
   "cell_type": "code",
   "execution_count": 102,
   "id": "581329de-a3fb-4b58-9c9e-90ca505bca9c",
   "metadata": {},
   "outputs": [
    {
     "data": {
      "text/plain": [
       "['two', 'three', 'four', 'five', 'six', 'seven', 'eight', 'nine']"
      ]
     },
     "execution_count": 102,
     "metadata": {},
     "output_type": "execute_result"
    }
   ],
   "source": [
    "mylist.append('nine')\n",
    "mylist"
   ]
  },
  {
   "cell_type": "code",
   "execution_count": 88,
   "id": "0e252bc4-9fc3-4090-ae98-e381172c8b8d",
   "metadata": {},
   "outputs": [
    {
     "data": {
      "text/plain": [
       "['one',\n",
       " 'two',\n",
       " 'three',\n",
       " 'four',\n",
       " 'five',\n",
       " 'six',\n",
       " 'seven',\n",
       " 'eight',\n",
       " 'nine',\n",
       " 'nine',\n",
       " 'nine',\n",
       " 'ten']"
      ]
     },
     "execution_count": 88,
     "metadata": {},
     "output_type": "execute_result"
    }
   ],
   "source": [
    "mylist.append('ten')\n",
    "mylist"
   ]
  },
  {
   "cell_type": "code",
   "execution_count": 92,
   "id": "ca21b7a4-0878-4a0e-a38f-863af0ccf563",
   "metadata": {},
   "outputs": [
    {
     "data": {
      "text/plain": [
       "['one', 'two', 'three', 'four', 'five', 'six', 'seven', 'eight', 'nine', 'ten']"
      ]
     },
     "execution_count": 92,
     "metadata": {},
     "output_type": "execute_result"
    }
   ],
   "source": [
    "mylist.remove('nine')\n",
    "mylist"
   ]
  },
  {
   "cell_type": "code",
   "execution_count": 94,
   "id": "88a36c71-d95f-437e-841a-ece4e5627244",
   "metadata": {},
   "outputs": [
    {
     "data": {
      "text/plain": [
       "['two', 'three', 'four', 'five', 'six', 'seven', 'eight', 'nine', 'ten']"
      ]
     },
     "execution_count": 94,
     "metadata": {},
     "output_type": "execute_result"
    }
   ],
   "source": [
    "mylist.remove('one')\n",
    "mylist"
   ]
  },
  {
   "cell_type": "code",
   "execution_count": 112,
   "id": "272d89ec-9da1-48c2-ad8d-58524bf1f4f6",
   "metadata": {},
   "outputs": [
    {
     "data": {
      "text/plain": [
       "'eight'"
      ]
     },
     "execution_count": 112,
     "metadata": {},
     "output_type": "execute_result"
    }
   ],
   "source": [
    "mylist.pop() # ramove last index"
   ]
  },
  {
   "cell_type": "code",
   "execution_count": 114,
   "id": "3837a0ed-4ebf-4d19-bc78-cce4bc9d00c6",
   "metadata": {},
   "outputs": [
    {
     "data": {
      "text/plain": [
       "['two', 'three', 'five', 'six', 'seven']"
      ]
     },
     "execution_count": 114,
     "metadata": {},
     "output_type": "execute_result"
    }
   ],
   "source": [
    "mylist"
   ]
  },
  {
   "cell_type": "code",
   "execution_count": 116,
   "id": "5e0f992b-59dc-4b19-8b1b-6eb64a5187bf",
   "metadata": {},
   "outputs": [
    {
     "data": {
      "text/plain": [
       "'five'"
      ]
     },
     "execution_count": 116,
     "metadata": {},
     "output_type": "execute_result"
    }
   ],
   "source": [
    "mylist.pop(2)# Remove item at index location 8 "
   ]
  },
  {
   "cell_type": "code",
   "execution_count": 120,
   "id": "42eef316-2369-4ebd-be9d-85c91a45516f",
   "metadata": {},
   "outputs": [
    {
     "data": {
      "text/plain": [
       "[1, 2, 'six', 4]"
      ]
     },
     "execution_count": 120,
     "metadata": {},
     "output_type": "execute_result"
    }
   ],
   "source": [
    "mylist[0]=1\n",
    "mylist[1]=2\n",
    "mylist[3]=4\n",
    "mylist # change the string to integer"
   ]
  },
  {
   "cell_type": "raw",
   "id": "f75d0cf2-2f8a-412e-8f96-d78c815518d2",
   "metadata": {},
   "source": [
    "mylist.clear()"
   ]
  },
  {
   "cell_type": "code",
   "execution_count": 124,
   "id": "193a1804-ea9c-4e0c-a824-292aed0a040a",
   "metadata": {},
   "outputs": [
    {
     "data": {
      "text/plain": [
       "[]"
      ]
     },
     "execution_count": 124,
     "metadata": {},
     "output_type": "execute_result"
    }
   ],
   "source": [
    "mylist"
   ]
  },
  {
   "cell_type": "code",
   "execution_count": 126,
   "id": "bb4d428d-f751-4aee-ac1e-4575de1fad80",
   "metadata": {},
   "outputs": [],
   "source": [
    "del mylist"
   ]
  },
  {
   "cell_type": "code",
   "execution_count": 128,
   "id": "e2bf4a47-dfbd-4345-973d-c0a6541853a6",
   "metadata": {},
   "outputs": [
    {
     "ename": "NameError",
     "evalue": "name 'mylist' is not defined",
     "output_type": "error",
     "traceback": [
      "\u001b[1;31m---------------------------------------------------------------------------\u001b[0m",
      "\u001b[1;31mNameError\u001b[0m                                 Traceback (most recent call last)",
      "Cell \u001b[1;32mIn[128], line 1\u001b[0m\n\u001b[1;32m----> 1\u001b[0m mylist\n",
      "\u001b[1;31mNameError\u001b[0m: name 'mylist' is not defined"
     ]
    }
   ],
   "source": [
    "mylist"
   ]
  },
  {
   "cell_type": "markdown",
   "id": "c3e46041-fe12-4442-8e5a-a1b7ed4905b1",
   "metadata": {},
   "source": [
    "#copy"
   ]
  },
  {
   "cell_type": "code",
   "execution_count": 141,
   "id": "58e86c43-053e-45e8-a293-c23b5545b310",
   "metadata": {},
   "outputs": [
    {
     "data": {
      "text/plain": [
       "['one', 'two', 'three', 'four', 'five', 'six', 'seven', 'eight']"
      ]
     },
     "execution_count": 141,
     "metadata": {},
     "output_type": "execute_result"
    }
   ],
   "source": [
    "mylist = ['one' , 'two' , 'three' , 'four' , 'five' , 'six' , 'seven' , 'eight']\n",
    "mylist"
   ]
  },
  {
   "cell_type": "code",
   "execution_count": 145,
   "id": "54891044-68fb-4d81-a557-1c436d76af61",
   "metadata": {},
   "outputs": [
    {
     "data": {
      "text/plain": [
       "['one', 'two', 'three', 'four', 'five', 'six', 'seven', 'eight']"
      ]
     },
     "execution_count": 145,
     "metadata": {},
     "output_type": "execute_result"
    }
   ],
   "source": [
    "mylist1=mylist\n",
    "mylist1"
   ]
  },
  {
   "cell_type": "code",
   "execution_count": 147,
   "id": "a088a78e-fdd5-4b18-8e9d-74dfc60e4908",
   "metadata": {},
   "outputs": [
    {
     "data": {
      "text/plain": [
       "(2416008473728, 2416008473728)"
      ]
     },
     "execution_count": 147,
     "metadata": {},
     "output_type": "execute_result"
    }
   ],
   "source": [
    "id(mylist),id(mylist1)"
   ]
  },
  {
   "cell_type": "code",
   "execution_count": 167,
   "id": "b14759da-c080-485d-81b3-d50d543caa5f",
   "metadata": {},
   "outputs": [
    {
     "data": {
      "text/plain": [
       "2416008423424"
      ]
     },
     "execution_count": 167,
     "metadata": {},
     "output_type": "execute_result"
    }
   ],
   "source": [
    "mylist2 = mylist.copy() # Create a copy of the list \n",
    "id(mylist2)"
   ]
  },
  {
   "cell_type": "code",
   "execution_count": 173,
   "id": "01fc7700-5673-446a-9906-deb05643b4e3",
   "metadata": {},
   "outputs": [
    {
     "name": "stdout",
     "output_type": "stream",
     "text": [
      "[1, 'two', 'three', 'four', 'five', 'six', 'seven', 'eight']\n",
      "[1, 'two', 'three', 'four', 'five', 'six', 'seven', 'eight']\n"
     ]
    }
   ],
   "source": [
    "mylist[0]=1\n",
    "print(mylist) # change the mylist string to integer\n",
    "print(mylist1) # mylist1 will be also impacted as it is pointing to the same list \n",
    "#  print(mylist2)  # Copy of list won't be impacted due to changes made on the original list"
   ]
  },
  {
   "cell_type": "markdown",
   "id": "c3e99025-63a4-4fd1-9acf-e2c3ce351f74",
   "metadata": {},
   "source": [
    "#join lists"
   ]
  },
  {
   "cell_type": "code",
   "execution_count": 197,
   "id": "7bb2e983-91a1-4c4a-9de7-9bdf8a2d26f3",
   "metadata": {},
   "outputs": [
    {
     "data": {
      "text/plain": [
       "['one', 'two', 'three', 'four', 'five', 'six', 'seven', 'eight']"
      ]
     },
     "execution_count": 197,
     "metadata": {},
     "output_type": "execute_result"
    }
   ],
   "source": [
    "list1 = ['one', 'two', 'three', 'four'] \n",
    "list2 = ['five', 'six', 'seven', 'eight'] \n",
    "list3=list1+list2\n",
    "list3"
   ]
  },
  {
   "cell_type": "code",
   "execution_count": 199,
   "id": "7efbbb25-0b73-4f9c-932d-6a4964582e23",
   "metadata": {},
   "outputs": [
    {
     "data": {
      "text/plain": [
       "['one', 'two', 'three', 'four', 'five', 'six', 'seven', 'eight']"
      ]
     },
     "execution_count": 199,
     "metadata": {},
     "output_type": "execute_result"
    }
   ],
   "source": [
    "list1.extend(list2) #Append list2 with list1 \n",
    "list1 "
   ]
  },
  {
   "cell_type": "markdown",
   "id": "b21d1609-efff-406b-90c4-bb17b95c1b40",
   "metadata": {},
   "source": [
    "#list membership"
   ]
  },
  {
   "cell_type": "code",
   "execution_count": 205,
   "id": "81521e87-b3d8-4504-a02e-14ab6aa9cb57",
   "metadata": {},
   "outputs": [
    {
     "data": {
      "text/plain": [
       "['one', 'two', 'three', 'four', 'five', 'six', 'seven', 'eight']"
      ]
     },
     "execution_count": 205,
     "metadata": {},
     "output_type": "execute_result"
    }
   ],
   "source": [
    "list1 "
   ]
  },
  {
   "cell_type": "code",
   "execution_count": 213,
   "id": "d63a00fd-04ee-41c9-95ef-1559be1c04e4",
   "metadata": {},
   "outputs": [
    {
     "name": "stdout",
     "output_type": "stream",
     "text": [
      "True\n",
      "False\n"
     ]
    }
   ],
   "source": [
    "print('one'in list1) # checks (one ) in list1\n",
    "print('ten'in list1)"
   ]
  },
  {
   "cell_type": "code",
   "execution_count": 245,
   "id": "6976723e-4e0c-4183-b89e-245c52114cf5",
   "metadata": {},
   "outputs": [
    {
     "name": "stdout",
     "output_type": "stream",
     "text": [
      "Three is present in the list\n"
     ]
    }
   ],
   "source": [
    "if 'three' in list1: # Check if 'three' exist in the list \n",
    "    print('Three is present in the list')  # you have to add 4 spaces befor print then only you get output\n",
    "else: \n",
    "    print('Three is not present in the list') "
   ]
  },
  {
   "cell_type": "markdown",
   "id": "ab370f19-7ee3-4960-9e71-d0808e9ce365",
   "metadata": {},
   "source": [
    "#Reverse & Sort List"
   ]
  },
  {
   "cell_type": "code",
   "execution_count": 264,
   "id": "f489041a-e17d-403c-98e5-72e4dc7807ae",
   "metadata": {},
   "outputs": [
    {
     "data": {
      "text/plain": [
       "['one', 'two', 'three', 'four', 'five', 'six', 'seven', 'eight']"
      ]
     },
     "execution_count": 264,
     "metadata": {},
     "output_type": "execute_result"
    }
   ],
   "source": [
    "(list1)"
   ]
  },
  {
   "cell_type": "code",
   "execution_count": 266,
   "id": "f72bc13a-f261-407e-81fb-4cc85b148a3e",
   "metadata": {},
   "outputs": [
    {
     "data": {
      "text/plain": [
       "['eight', 'seven', 'six', 'five', 'four', 'three', 'two', 'one']"
      ]
     },
     "execution_count": 266,
     "metadata": {},
     "output_type": "execute_result"
    }
   ],
   "source": [
    "list1.reverse()\n",
    "list1"
   ]
  },
  {
   "cell_type": "code",
   "execution_count": 272,
   "id": "a84dc390-a3b1-4196-afe0-f5fcd60d622d",
   "metadata": {},
   "outputs": [
    {
     "data": {
      "text/plain": [
       "['one', 'two', 'three', 'four', 'five', 'six', 'seven', 'eight']"
      ]
     },
     "execution_count": 272,
     "metadata": {},
     "output_type": "execute_result"
    }
   ],
   "source": [
    "list1=list1[::-1]\n",
    "list1"
   ]
  },
  {
   "cell_type": "code",
   "execution_count": 282,
   "id": "880d9c1f-f73a-4299-a2fa-20ab51bc6ae4",
   "metadata": {},
   "outputs": [
    {
     "data": {
      "text/plain": [
       "[0, 11, 22, 55, 66, 77, 88, 99]"
      ]
     },
     "execution_count": 282,
     "metadata": {},
     "output_type": "execute_result"
    }
   ],
   "source": [
    "l1=[55,88,22,66,77,99,11,00]\n",
    "l1.sort()\n",
    "l1"
   ]
  },
  {
   "cell_type": "code",
   "execution_count": 334,
   "id": "68f22fa7-7856-4070-abb4-ab84c461c00b",
   "metadata": {},
   "outputs": [
    {
     "data": {
      "text/plain": [
       "[99, 88, 77, 66, 55, 22, 11, 0]"
      ]
     },
     "execution_count": 334,
     "metadata": {},
     "output_type": "execute_result"
    }
   ],
   "source": [
    "l1.sort(reverse=True)\n",
    "(l1)"
   ]
  },
  {
   "cell_type": "code",
   "execution_count": 330,
   "id": "0b071f6f-1f23-4278-bfcc-4553ecf34279",
   "metadata": {},
   "outputs": [
    {
     "data": {
      "text/plain": [
       "[31, 41, 51, 61, 71, 81, 91]"
      ]
     },
     "execution_count": 330,
     "metadata": {},
     "output_type": "execute_result"
    }
   ],
   "source": [
    "l4=[91,51,81,61,41,71,31]\n",
    "sorted(l4)"
   ]
  },
  {
   "cell_type": "code",
   "execution_count": 323,
   "id": "e4d62725-ff3a-4b2d-ac4e-5fe0ca143d4f",
   "metadata": {},
   "outputs": [
    {
     "data": {
      "text/plain": [
       "[22, 31, 33, 44, 51, 55, 66, 77, 88, 98]"
      ]
     },
     "execution_count": 323,
     "metadata": {},
     "output_type": "execute_result"
    }
   ],
   "source": [
    "l5=[22,55,88,33,44,77,51,31,66,98]\n",
    "sorted(l5)"
   ]
  },
  {
   "cell_type": "markdown",
   "id": "1430a7eb-57c3-48d1-8165-b8d41537b7e9",
   "metadata": {},
   "source": [
    "#loop thorugh a list"
   ]
  },
  {
   "cell_type": "code",
   "execution_count": 337,
   "id": "ac9ae768-8003-49f4-832a-e800defd0c5a",
   "metadata": {},
   "outputs": [
    {
     "data": {
      "text/plain": [
       "['one', 'two', 'three', 'four', 'five', 'six', 'seven', 'eight']"
      ]
     },
     "execution_count": 337,
     "metadata": {},
     "output_type": "execute_result"
    }
   ],
   "source": [
    "list1"
   ]
  },
  {
   "cell_type": "code",
   "execution_count": 339,
   "id": "7844ec0d-1f5c-4989-9e38-8622ae71f5e2",
   "metadata": {},
   "outputs": [
    {
     "name": "stdout",
     "output_type": "stream",
     "text": [
      "one\n",
      "two\n",
      "three\n",
      "four\n",
      "five\n",
      "six\n",
      "seven\n",
      "eight\n"
     ]
    }
   ],
   "source": [
    "for i in list1:\n",
    "    print(i)"
   ]
  },
  {
   "cell_type": "code",
   "execution_count": 345,
   "id": "0849238a-95d9-41b1-8084-8d7a124bf136",
   "metadata": {},
   "outputs": [
    {
     "name": "stdout",
     "output_type": "stream",
     "text": [
      "(0, 'one')\n",
      "(1, 'two')\n",
      "(2, 'three')\n",
      "(3, 'four')\n",
      "(4, 'five')\n",
      "(5, 'six')\n",
      "(6, 'seven')\n",
      "(7, 'eight')\n"
     ]
    }
   ],
   "source": [
    "for i in enumerate(list1):\n",
    "    print(i)"
   ]
  },
  {
   "cell_type": "code",
   "execution_count": 349,
   "id": "694a424f-de68-4435-a73a-90a377650bfb",
   "metadata": {},
   "outputs": [
    {
     "data": {
      "text/plain": [
       "[55, 66, 77, 55, 21, 21, 33, 31, 41]"
      ]
     },
     "execution_count": 349,
     "metadata": {},
     "output_type": "execute_result"
    }
   ],
   "source": [
    "l7=[55,66,77,55,21,21,33,31,41]\n",
    "l7"
   ]
  },
  {
   "cell_type": "code",
   "execution_count": 355,
   "id": "61b98295-4e6d-43d1-8462-193e29456b4d",
   "metadata": {},
   "outputs": [
    {
     "data": {
      "text/plain": [
       "2"
      ]
     },
     "execution_count": 355,
     "metadata": {},
     "output_type": "execute_result"
    }
   ],
   "source": [
    "l7.count(21)"
   ]
  },
  {
   "cell_type": "code",
   "execution_count": 359,
   "id": "c6fe7d34-cf3d-4618-97dd-0f174b48c30c",
   "metadata": {},
   "outputs": [
    {
     "data": {
      "text/plain": [
       "True"
      ]
     },
     "execution_count": 359,
     "metadata": {},
     "output_type": "execute_result"
    }
   ],
   "source": [
    "all(l7) # Will Return false as one value is false (Value 0) "
   ]
  },
  {
   "cell_type": "code",
   "execution_count": 361,
   "id": "e476c385-e7eb-46ed-b2d4-fe25666c57d9",
   "metadata": {},
   "outputs": [
    {
     "data": {
      "text/plain": [
       "False"
      ]
     },
     "execution_count": 361,
     "metadata": {},
     "output_type": "execute_result"
    }
   ],
   "source": [
    "all(l1)"
   ]
  },
  {
   "cell_type": "code",
   "execution_count": null,
   "id": "b38a3151-319a-4b89-b130-86dbd3938c29",
   "metadata": {},
   "outputs": [],
   "source": []
  }
 ],
 "metadata": {
  "kernelspec": {
   "display_name": "Python 3 (ipykernel)",
   "language": "python",
   "name": "python3"
  },
  "language_info": {
   "codemirror_mode": {
    "name": "ipython",
    "version": 3
   },
   "file_extension": ".py",
   "mimetype": "text/x-python",
   "name": "python",
   "nbconvert_exporter": "python",
   "pygments_lexer": "ipython3",
   "version": "3.12.7"
  }
 },
 "nbformat": 4,
 "nbformat_minor": 5
}
