{
 "cells": [
  {
   "cell_type": "markdown",
   "id": "36f85d69-d686-4ed2-979c-95258971ac18",
   "metadata": {},
   "source": [
    "# Manipulating Strings"
   ]
  },
  {
   "cell_type": "code",
   "execution_count": 30,
   "id": "4c231ea7-9bef-4ad2-b975-69c9799c3510",
   "metadata": {},
   "outputs": [
    {
     "data": {
      "text/plain": [
       "\"Hello there!\\nHow are you?\\nI'm doing fine.\""
      ]
     },
     "execution_count": 30,
     "metadata": {},
     "output_type": "execute_result"
    }
   ],
   "source": [
    "print\n",
    "(\"Hello there!\\nHow are you?\\nI\\'m doing fine.\") #Raw strings are mostly used for regular expression definition."
   ]
  },
  {
   "cell_type": "markdown",
   "id": "1f1daf46-44e9-4617-b77e-26778de9301e",
   "metadata": {},
   "source": [
    "# Multiline Strings"
   ]
  },
  {
   "cell_type": "code",
   "execution_count": 33,
   "id": "71c6f5f4-a20b-4b83-8786-063aa08fc793",
   "metadata": {},
   "outputs": [
    {
     "name": "stdout",
     "output_type": "stream",
     "text": [
      " Dear Pooja,\n",
      "have a great day ahead.\n",
      "\n",
      "From Raj\n"
     ]
    }
   ],
   "source": [
    "print(''' Dear Pooja,\n",
    "have a great day ahead.\n",
    "\n",
    "From Raj''') # multiline strings alwas difine with (''') quotes"
   ]
  },
  {
   "cell_type": "markdown",
   "id": "91fd949f-7d04-435d-aefa-057ea2db37ac",
   "metadata": {},
   "source": [
    "# Indexing"
   ]
  },
  {
   "cell_type": "code",
   "execution_count": 83,
   "id": "946ba034-d61b-42e9-ae51-cabbf05ef4c8",
   "metadata": {},
   "outputs": [],
   "source": [
    "m = ('Hello World!') #indexing"
   ]
  },
  {
   "cell_type": "code",
   "execution_count": 85,
   "id": "0674f46c-685a-40c2-8da1-782e5ec0327c",
   "metadata": {},
   "outputs": [
    {
     "data": {
      "text/plain": [
       "'H'"
      ]
     },
     "execution_count": 85,
     "metadata": {},
     "output_type": "execute_result"
    }
   ],
   "source": [
    "m[0]"
   ]
  },
  {
   "cell_type": "code",
   "execution_count": 87,
   "id": "5669a0eb-3eb7-4933-8bfb-30d3a118d8ab",
   "metadata": {},
   "outputs": [
    {
     "data": {
      "text/plain": [
       "str"
      ]
     },
     "execution_count": 87,
     "metadata": {},
     "output_type": "execute_result"
    }
   ],
   "source": [
    "type(m)"
   ]
  },
  {
   "cell_type": "code",
   "execution_count": 89,
   "id": "172682d4-c5a5-46bf-8049-fc86e176261d",
   "metadata": {},
   "outputs": [
    {
     "data": {
      "text/plain": [
       "'!'"
      ]
     },
     "execution_count": 89,
     "metadata": {},
     "output_type": "execute_result"
    }
   ],
   "source": [
    "m[-1]"
   ]
  },
  {
   "cell_type": "markdown",
   "id": "80400656-c2c9-4cfb-9fd0-5ed17a70a12f",
   "metadata": {},
   "source": [
    "# Slicing strings"
   ]
  },
  {
   "cell_type": "code",
   "execution_count": 93,
   "id": "f28639f0-bcea-4091-80f2-f9ad28477f91",
   "metadata": {},
   "outputs": [
    {
     "data": {
      "text/plain": [
       "'Hello World!'"
      ]
     },
     "execution_count": 93,
     "metadata": {},
     "output_type": "execute_result"
    }
   ],
   "source": [
    "m"
   ]
  },
  {
   "cell_type": "code",
   "execution_count": 96,
   "id": "e1903d85-caf4-4d2b-ba38-24c8e0e42409",
   "metadata": {},
   "outputs": [
    {
     "data": {
      "text/plain": [
       "'Hell'"
      ]
     },
     "execution_count": 96,
     "metadata": {},
     "output_type": "execute_result"
    }
   ],
   "source": [
    "m[:4]"
   ]
  },
  {
   "cell_type": "code",
   "execution_count": 98,
   "id": "76c5ef70-3765-46fc-916b-97a46511860f",
   "metadata": {},
   "outputs": [
    {
     "data": {
      "text/plain": [
       "'Hello '"
      ]
     },
     "execution_count": 98,
     "metadata": {},
     "output_type": "execute_result"
    }
   ],
   "source": [
    "m[0:6]"
   ]
  },
  {
   "cell_type": "code",
   "execution_count": 102,
   "id": "4bc05f7b-e54d-43e0-8ca3-d6894fbbbe3f",
   "metadata": {},
   "outputs": [
    {
     "ename": "SyntaxError",
     "evalue": "invalid syntax (1997684240.py, line 1)",
     "output_type": "error",
     "traceback": [
      "\u001b[1;36m  Cell \u001b[1;32mIn[102], line 1\u001b[1;36m\u001b[0m\n\u001b[1;33m    m{0:5}\u001b[0m\n\u001b[1;37m     ^\u001b[0m\n\u001b[1;31mSyntaxError\u001b[0m\u001b[1;31m:\u001b[0m invalid syntax\n"
     ]
    }
   ],
   "source": [
    "m{0:5}"
   ]
  },
  {
   "cell_type": "code",
   "execution_count": 104,
   "id": "dfbd2e66-ec81-40ab-afb2-d8f3d8d7e187",
   "metadata": {},
   "outputs": [
    {
     "data": {
      "text/plain": [
       "'Hello World'"
      ]
     },
     "execution_count": 104,
     "metadata": {},
     "output_type": "execute_result"
    }
   ],
   "source": [
    "m[0:-1]"
   ]
  },
  {
   "cell_type": "code",
   "execution_count": 106,
   "id": "9da36a19-ad81-412a-9f97-24e12d2d2d98",
   "metadata": {},
   "outputs": [
    {
     "data": {
      "text/plain": [
       "' Wo'"
      ]
     },
     "execution_count": 106,
     "metadata": {},
     "output_type": "execute_result"
    }
   ],
   "source": [
    "m[5:-4]"
   ]
  },
  {
   "cell_type": "code",
   "execution_count": 108,
   "id": "973336a5-ea77-495f-9970-034015811a2c",
   "metadata": {},
   "outputs": [
    {
     "data": {
      "text/plain": [
       "'!dlroW olleH'"
      ]
     },
     "execution_count": 108,
     "metadata": {},
     "output_type": "execute_result"
    }
   ],
   "source": [
    "m[::-1] # prints reverse"
   ]
  },
  {
   "cell_type": "code",
   "execution_count": 120,
   "id": "412d5586-fb4d-4bc4-b18d-14f37b32ac22",
   "metadata": {},
   "outputs": [
    {
     "data": {
      "text/plain": [
       "True"
      ]
     },
     "execution_count": 120,
     "metadata": {},
     "output_type": "execute_result"
    }
   ],
   "source": [
    "'Hello' in (m) #Boolean"
   ]
  },
  {
   "cell_type": "code",
   "execution_count": 114,
   "id": "09002339-1f1d-4baf-af49-f53cbc7795d5",
   "metadata": {},
   "outputs": [
    {
     "data": {
      "text/plain": [
       "True"
      ]
     },
     "execution_count": 114,
     "metadata": {},
     "output_type": "execute_result"
    }
   ],
   "source": [
    "'Hello' in 'Hello world'"
   ]
  },
  {
   "cell_type": "code",
   "execution_count": 122,
   "id": "246f33e5-ba18-4174-b977-af8c64405758",
   "metadata": {},
   "outputs": [
    {
     "data": {
      "text/plain": [
       "True"
      ]
     },
     "execution_count": 122,
     "metadata": {},
     "output_type": "execute_result"
    }
   ],
   "source": [
    "'cats' not in 'Hello world'"
   ]
  },
  {
   "cell_type": "code",
   "execution_count": 124,
   "id": "62264798-463b-4345-a853-d95e90e43aad",
   "metadata": {},
   "outputs": [
    {
     "data": {
      "text/plain": [
       "False"
      ]
     },
     "execution_count": 124,
     "metadata": {},
     "output_type": "execute_result"
    }
   ],
   "source": [
    "'cats' in (m)"
   ]
  },
  {
   "cell_type": "code",
   "execution_count": 156,
   "id": "cde21b43-eda8-4451-9ede-f8533bd798e3",
   "metadata": {},
   "outputs": [
    {
     "data": {
      "text/plain": [
       "'Hello World!'"
      ]
     },
     "execution_count": 156,
     "metadata": {},
     "output_type": "execute_result"
    }
   ],
   "source": [
    "m"
   ]
  },
  {
   "cell_type": "code",
   "execution_count": 158,
   "id": "6ff739e9-6a98-4515-bc08-741e8e17ad80",
   "metadata": {},
   "outputs": [
    {
     "data": {
      "text/plain": [
       "'HELLO WORLD!'"
      ]
     },
     "execution_count": 158,
     "metadata": {},
     "output_type": "execute_result"
    }
   ],
   "source": [
    "m.upper() #Upper case"
   ]
  },
  {
   "cell_type": "code",
   "execution_count": 160,
   "id": "3579385b-6b6b-46b3-9259-ce589ffccea4",
   "metadata": {},
   "outputs": [
    {
     "data": {
      "text/plain": [
       "'hello world!'"
      ]
     },
     "execution_count": 160,
     "metadata": {},
     "output_type": "execute_result"
    }
   ],
   "source": [
    "m.lower() # Lower case"
   ]
  },
  {
   "cell_type": "code",
   "execution_count": 162,
   "id": "4044ce97-806b-4803-b7ee-68c3ae74cf5b",
   "metadata": {},
   "outputs": [
    {
     "data": {
      "text/plain": [
       "'Hello World!'"
      ]
     },
     "execution_count": 162,
     "metadata": {},
     "output_type": "execute_result"
    }
   ],
   "source": [
    "m.title() # title case"
   ]
  },
  {
   "cell_type": "code",
   "execution_count": 200,
   "id": "ec999035-0bf8-41b6-92c7-01282c5ca631",
   "metadata": {},
   "outputs": [
    {
     "data": {
      "text/plain": [
       "True"
      ]
     },
     "execution_count": 200,
     "metadata": {},
     "output_type": "execute_result"
    }
   ],
   "source": [
    "'hello'.isalpha() # isX string methodes"
   ]
  },
  {
   "cell_type": "code",
   "execution_count": 202,
   "id": "e1454d47-6c11-41b3-a2fa-01dd1bf44e5c",
   "metadata": {},
   "outputs": [
    {
     "data": {
      "text/plain": [
       "False"
      ]
     },
     "execution_count": 202,
     "metadata": {},
     "output_type": "execute_result"
    }
   ],
   "source": [
    "m.isalpha()"
   ]
  },
  {
   "cell_type": "code",
   "execution_count": 214,
   "id": "2a037936-d0de-41df-a825-db6c4287d3f7",
   "metadata": {},
   "outputs": [
    {
     "data": {
      "text/plain": [
       "'MynameisPooja'"
      ]
     },
     "execution_count": 214,
     "metadata": {},
     "output_type": "execute_result"
    }
   ],
   "source": [
    "''.join(['My','name','is','Pooja']) #join str"
   ]
  },
  {
   "cell_type": "code",
   "execution_count": 218,
   "id": "19539592-5d37-4064-9af1-7e22ef8a527d",
   "metadata": {},
   "outputs": [
    {
     "data": {
      "text/plain": [
       "'Shivadi*Pooja*Raj'"
      ]
     },
     "execution_count": 218,
     "metadata": {},
     "output_type": "execute_result"
    }
   ],
   "source": [
    "'*'.join(['Shivadi','Pooja','Raj'])"
   ]
  },
  {
   "cell_type": "code",
   "execution_count": 236,
   "id": "cd907d8e-e46d-46fd-bff9-3732fbadea18",
   "metadata": {},
   "outputs": [
    {
     "data": {
      "text/plain": [
       "['i', 'have', 'completed', 'my', 'graduation']"
      ]
     },
     "execution_count": 236,
     "metadata": {},
     "output_type": "execute_result"
    }
   ],
   "source": [
    "'iABChaveABCcompletedABCmyABCgraduation'.split('ABC') #split str"
   ]
  },
  {
   "cell_type": "code",
   "execution_count": 240,
   "id": "2d21f433-cc3c-4ded-a531-a58b36b28c3d",
   "metadata": {},
   "outputs": [
    {
     "data": {
      "text/plain": [
       "['i', 'have', 'completed', 'my', 'gaduation']"
      ]
     },
     "execution_count": 240,
     "metadata": {},
     "output_type": "execute_result"
    }
   ],
   "source": [
    "'i*have*completed*my*gaduation'.split('*')"
   ]
  },
  {
   "cell_type": "code",
   "execution_count": 244,
   "id": "f42eed4e-d20c-472e-b235-265330fa65ec",
   "metadata": {},
   "outputs": [
    {
     "data": {
      "text/plain": [
       "['i', 'have', 'completed', 'my', 'gaduation']"
      ]
     },
     "execution_count": 244,
     "metadata": {},
     "output_type": "execute_result"
    }
   ],
   "source": [
    "'i have completed my gaduation'.split(' ')"
   ]
  },
  {
   "cell_type": "code",
   "execution_count": 248,
   "id": "8b4d2154-4258-46a3-81f4-5376fae6273b",
   "metadata": {},
   "outputs": [
    {
     "data": {
      "text/plain": [
       "'    pooja'"
      ]
     },
     "execution_count": 248,
     "metadata": {},
     "output_type": "execute_result"
    }
   ],
   "source": [
    "'pooja'.rjust(9)"
   ]
  },
  {
   "cell_type": "code",
   "execution_count": 260,
   "id": "108afb25-631f-4278-9823-750dcb6e4068",
   "metadata": {},
   "outputs": [
    {
     "data": {
      "text/plain": [
       "'pooja'"
      ]
     },
     "execution_count": 260,
     "metadata": {},
     "output_type": "execute_result"
    }
   ],
   "source": [
    "'pooja'.ljust(5)"
   ]
  },
  {
   "cell_type": "code",
   "execution_count": 254,
   "id": "d111c855-3381-43bd-8c62-956010ee5871",
   "metadata": {},
   "outputs": [
    {
     "data": {
      "text/plain": [
       "'        pooja         '"
      ]
     },
     "execution_count": 254,
     "metadata": {},
     "output_type": "execute_result"
    }
   ],
   "source": [
    "'pooja'.center(22)"
   ]
  },
  {
   "cell_type": "code",
   "execution_count": 264,
   "id": "61486cad-3808-484c-886e-1f11f9ef6405",
   "metadata": {},
   "outputs": [
    {
     "data": {
      "text/plain": [
       "'!!!!!!!!pooja!!!!!!!!!'"
      ]
     },
     "execution_count": 264,
     "metadata": {},
     "output_type": "execute_result"
    }
   ],
   "source": [
    "'pooja'.center(22,'!')"
   ]
  },
  {
   "cell_type": "code",
   "execution_count": 266,
   "id": "74dda2d2-ecb9-4a7b-a1c2-4cc2ba0112a4",
   "metadata": {},
   "outputs": [
    {
     "data": {
      "text/plain": [
       "'$$$$pooja'"
      ]
     },
     "execution_count": 266,
     "metadata": {},
     "output_type": "execute_result"
    }
   ],
   "source": [
    "'pooja'.rjust(9,'$')"
   ]
  },
  {
   "cell_type": "code",
   "execution_count": 268,
   "id": "aaab38c9-9245-4b4e-a593-cb2f9c47c14c",
   "metadata": {},
   "outputs": [],
   "source": [
    "spam='SpamSpamBaconSpamEggsSpamSpam'"
   ]
  },
  {
   "cell_type": "code",
   "execution_count": 272,
   "id": "23de752e-182a-425f-bfd6-6f1e2a93b327",
   "metadata": {},
   "outputs": [
    {
     "data": {
      "text/plain": [
       "'BaconSpamEggs'"
      ]
     },
     "execution_count": 272,
     "metadata": {},
     "output_type": "execute_result"
    }
   ],
   "source": [
    "spam.strip('ampS')"
   ]
  },
  {
   "cell_type": "code",
   "execution_count": 290,
   "id": "8bed8976-28cc-41be-8def-d3f9f46b9f52",
   "metadata": {},
   "outputs": [],
   "source": [
    "sentance = ('shivadi poojaraj')"
   ]
  },
  {
   "cell_type": "code",
   "execution_count": 302,
   "id": "a5a85c1d-7167-4572-8b8c-944f10a7c78b",
   "metadata": {},
   "outputs": [
    {
     "data": {
      "text/plain": [
       "3"
      ]
     },
     "execution_count": 302,
     "metadata": {},
     "output_type": "execute_result"
    }
   ],
   "source": [
    "sentance.count('a')"
   ]
  },
  {
   "cell_type": "code",
   "execution_count": 300,
   "id": "8360a02c-4ce4-41bb-adae-c6018eb2d46f",
   "metadata": {},
   "outputs": [
    {
     "data": {
      "text/plain": [
       "1"
      ]
     },
     "execution_count": 300,
     "metadata": {},
     "output_type": "execute_result"
    }
   ],
   "source": [
    "sentance.count('shiva')"
   ]
  },
  {
   "cell_type": "code",
   "execution_count": 304,
   "id": "8a4feadc-394c-4237-9a28-f7d18484d0bc",
   "metadata": {},
   "outputs": [
    {
     "data": {
      "text/plain": [
       "2"
      ]
     },
     "execution_count": 304,
     "metadata": {},
     "output_type": "execute_result"
    }
   ],
   "source": [
    "sentance.count('a',5)"
   ]
  },
  {
   "cell_type": "code",
   "execution_count": 318,
   "id": "07798a14-fa8a-4a5a-b63f-4aace08aec4f",
   "metadata": {},
   "outputs": [],
   "source": [
    "text = \"pooja , r\""
   ]
  },
  {
   "cell_type": "code",
   "execution_count": 348,
   "id": "e9df3769-2de8-4090-9784-4550e69c79e0",
   "metadata": {},
   "outputs": [
    {
     "data": {
      "text/plain": [
       "'pooja , raj'"
      ]
     },
     "execution_count": 348,
     "metadata": {},
     "output_type": "execute_result"
    }
   ],
   "source": [
    "text.replace(\"r\" , \"raj\")"
   ]
  },
  {
   "cell_type": "code",
   "execution_count": null,
   "id": "32aba167-8e87-4fe4-a4eb-fd8754014968",
   "metadata": {},
   "outputs": [],
   "source": []
  },
  {
   "cell_type": "code",
   "execution_count": null,
   "id": "490439ea-086a-4030-82d7-bf947fab3ac3",
   "metadata": {},
   "outputs": [],
   "source": []
  }
 ],
 "metadata": {
  "kernelspec": {
   "display_name": "Python 3 (ipykernel)",
   "language": "python",
   "name": "python3"
  },
  "language_info": {
   "codemirror_mode": {
    "name": "ipython",
    "version": 3
   },
   "file_extension": ".py",
   "mimetype": "text/x-python",
   "name": "python",
   "nbconvert_exporter": "python",
   "pygments_lexer": "ipython3",
   "version": "3.12.7"
  }
 },
 "nbformat": 4,
 "nbformat_minor": 5
}
